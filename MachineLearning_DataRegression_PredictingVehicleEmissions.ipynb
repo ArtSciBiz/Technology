{
 "cells": [
  {
   "cell_type": "markdown",
   "metadata": {},
   "source": [
    "# Demo of Regression Analysis (predicting continuously varying values)\n",
    "\n",
    "### ( Working with Vehicle Emmissions dataset provided by CognitiveClass)"
   ]
  },
  {
   "cell_type": "code",
   "execution_count": 464,
   "metadata": {},
   "outputs": [],
   "source": [
    "#PyLab combines the numerical module numpy with the graphical plotting module pyplot\n",
    "#  pyLab is a convenience module that bulk imports matplotlib. many examples use it but it's not recommended \n",
    "#  pyplot (for plotting) and NumPy (for Mathematics and working with arrays) in a single name space\n",
    "\n",
    "import matplotlib.pyplot as plt\n",
    "import pandas as pd\n",
    "import pylab as pl                            \n",
    "import numpy as np\n",
    "%matplotlib inline"
   ]
  },
  {
   "cell_type": "code",
   "execution_count": 465,
   "metadata": {},
   "outputs": [
    {
     "name": "stdout",
     "output_type": "stream",
     "text": [
      "\n",
      " Size of DataFrame (cells) : 13871\n",
      "\n",
      " Shape of DataFrame (rows x columns): (1067, 13)\n",
      "\n",
      " Length of DataFrame (number of rows) : 1067\n"
     ]
    }
   ],
   "source": [
    "# Use Pandas read_csv() method to read the CSV file using the URL\n",
    "df = pd.read_csv(\"https://s3-api.us-geo.objectstorage.softlayer.net/cf-courses-data/CognitiveClass/ML0101ENv3/labs/FuelConsumptionCo2.csv\")\n",
    "df.head()\n",
    "\n",
    "print('\\n Size of DataFrame (cells) :', df.size)\n",
    "print('\\n Shape of DataFrame (rows x columns):', df.shape)\n",
    "print('\\n Length of DataFrame (number of rows) :', len(df))\n"
   ]
  },
  {
   "cell_type": "code",
   "execution_count": 466,
   "metadata": {},
   "outputs": [
    {
     "data": {
      "text/html": [
       "<div>\n",
       "<style scoped>\n",
       "    .dataframe tbody tr th:only-of-type {\n",
       "        vertical-align: middle;\n",
       "    }\n",
       "\n",
       "    .dataframe tbody tr th {\n",
       "        vertical-align: top;\n",
       "    }\n",
       "\n",
       "    .dataframe thead th {\n",
       "        text-align: right;\n",
       "    }\n",
       "</style>\n",
       "<table border=\"1\" class=\"dataframe\">\n",
       "  <thead>\n",
       "    <tr style=\"text-align: right;\">\n",
       "      <th></th>\n",
       "      <th>MODELYEAR</th>\n",
       "      <th>ENGINESIZE</th>\n",
       "      <th>CYLINDERS</th>\n",
       "      <th>FUELCONSUMPTION_CITY</th>\n",
       "      <th>FUELCONSUMPTION_HWY</th>\n",
       "      <th>FUELCONSUMPTION_COMB</th>\n",
       "      <th>FUELCONSUMPTION_COMB_MPG</th>\n",
       "      <th>CO2EMISSIONS</th>\n",
       "    </tr>\n",
       "  </thead>\n",
       "  <tbody>\n",
       "    <tr>\n",
       "      <th>count</th>\n",
       "      <td>1067.0</td>\n",
       "      <td>1067.000000</td>\n",
       "      <td>1067.000000</td>\n",
       "      <td>1067.000000</td>\n",
       "      <td>1067.000000</td>\n",
       "      <td>1067.000000</td>\n",
       "      <td>1067.000000</td>\n",
       "      <td>1067.000000</td>\n",
       "    </tr>\n",
       "    <tr>\n",
       "      <th>mean</th>\n",
       "      <td>2014.0</td>\n",
       "      <td>3.346298</td>\n",
       "      <td>5.794752</td>\n",
       "      <td>13.296532</td>\n",
       "      <td>9.474602</td>\n",
       "      <td>11.580881</td>\n",
       "      <td>26.441425</td>\n",
       "      <td>256.228679</td>\n",
       "    </tr>\n",
       "    <tr>\n",
       "      <th>std</th>\n",
       "      <td>0.0</td>\n",
       "      <td>1.415895</td>\n",
       "      <td>1.797447</td>\n",
       "      <td>4.101253</td>\n",
       "      <td>2.794510</td>\n",
       "      <td>3.485595</td>\n",
       "      <td>7.468702</td>\n",
       "      <td>63.372304</td>\n",
       "    </tr>\n",
       "    <tr>\n",
       "      <th>min</th>\n",
       "      <td>2014.0</td>\n",
       "      <td>1.000000</td>\n",
       "      <td>3.000000</td>\n",
       "      <td>4.600000</td>\n",
       "      <td>4.900000</td>\n",
       "      <td>4.700000</td>\n",
       "      <td>11.000000</td>\n",
       "      <td>108.000000</td>\n",
       "    </tr>\n",
       "    <tr>\n",
       "      <th>25%</th>\n",
       "      <td>2014.0</td>\n",
       "      <td>2.000000</td>\n",
       "      <td>4.000000</td>\n",
       "      <td>10.250000</td>\n",
       "      <td>7.500000</td>\n",
       "      <td>9.000000</td>\n",
       "      <td>21.000000</td>\n",
       "      <td>207.000000</td>\n",
       "    </tr>\n",
       "    <tr>\n",
       "      <th>50%</th>\n",
       "      <td>2014.0</td>\n",
       "      <td>3.400000</td>\n",
       "      <td>6.000000</td>\n",
       "      <td>12.600000</td>\n",
       "      <td>8.800000</td>\n",
       "      <td>10.900000</td>\n",
       "      <td>26.000000</td>\n",
       "      <td>251.000000</td>\n",
       "    </tr>\n",
       "    <tr>\n",
       "      <th>75%</th>\n",
       "      <td>2014.0</td>\n",
       "      <td>4.300000</td>\n",
       "      <td>8.000000</td>\n",
       "      <td>15.550000</td>\n",
       "      <td>10.850000</td>\n",
       "      <td>13.350000</td>\n",
       "      <td>31.000000</td>\n",
       "      <td>294.000000</td>\n",
       "    </tr>\n",
       "    <tr>\n",
       "      <th>max</th>\n",
       "      <td>2014.0</td>\n",
       "      <td>8.400000</td>\n",
       "      <td>12.000000</td>\n",
       "      <td>30.200000</td>\n",
       "      <td>20.500000</td>\n",
       "      <td>25.800000</td>\n",
       "      <td>60.000000</td>\n",
       "      <td>488.000000</td>\n",
       "    </tr>\n",
       "  </tbody>\n",
       "</table>\n",
       "</div>"
      ],
      "text/plain": [
       "       MODELYEAR   ENGINESIZE    CYLINDERS  FUELCONSUMPTION_CITY  \\\n",
       "count     1067.0  1067.000000  1067.000000           1067.000000   \n",
       "mean      2014.0     3.346298     5.794752             13.296532   \n",
       "std          0.0     1.415895     1.797447              4.101253   \n",
       "min       2014.0     1.000000     3.000000              4.600000   \n",
       "25%       2014.0     2.000000     4.000000             10.250000   \n",
       "50%       2014.0     3.400000     6.000000             12.600000   \n",
       "75%       2014.0     4.300000     8.000000             15.550000   \n",
       "max       2014.0     8.400000    12.000000             30.200000   \n",
       "\n",
       "       FUELCONSUMPTION_HWY  FUELCONSUMPTION_COMB  FUELCONSUMPTION_COMB_MPG  \\\n",
       "count          1067.000000           1067.000000               1067.000000   \n",
       "mean              9.474602             11.580881                 26.441425   \n",
       "std               2.794510              3.485595                  7.468702   \n",
       "min               4.900000              4.700000                 11.000000   \n",
       "25%               7.500000              9.000000                 21.000000   \n",
       "50%               8.800000             10.900000                 26.000000   \n",
       "75%              10.850000             13.350000                 31.000000   \n",
       "max              20.500000             25.800000                 60.000000   \n",
       "\n",
       "       CO2EMISSIONS  \n",
       "count   1067.000000  \n",
       "mean     256.228679  \n",
       "std       63.372304  \n",
       "min      108.000000  \n",
       "25%      207.000000  \n",
       "50%      251.000000  \n",
       "75%      294.000000  \n",
       "max      488.000000  "
      ]
     },
     "execution_count": 466,
     "metadata": {},
     "output_type": "execute_result"
    }
   ],
   "source": [
    "# Display descriptive statistics\n",
    "df.describe()"
   ]
  },
  {
   "cell_type": "code",
   "execution_count": 467,
   "metadata": {},
   "outputs": [
    {
     "data": {
      "text/html": [
       "<div>\n",
       "<style scoped>\n",
       "    .dataframe tbody tr th:only-of-type {\n",
       "        vertical-align: middle;\n",
       "    }\n",
       "\n",
       "    .dataframe tbody tr th {\n",
       "        vertical-align: top;\n",
       "    }\n",
       "\n",
       "    .dataframe thead th {\n",
       "        text-align: right;\n",
       "    }\n",
       "</style>\n",
       "<table border=\"1\" class=\"dataframe\">\n",
       "  <thead>\n",
       "    <tr style=\"text-align: right;\">\n",
       "      <th></th>\n",
       "      <th>ENGINESIZE</th>\n",
       "      <th>CYLINDERS</th>\n",
       "      <th>FUELCONSUMPTION_COMB</th>\n",
       "      <th>CO2EMISSIONS</th>\n",
       "    </tr>\n",
       "  </thead>\n",
       "  <tbody>\n",
       "    <tr>\n",
       "      <th>0</th>\n",
       "      <td>2.0</td>\n",
       "      <td>4</td>\n",
       "      <td>8.5</td>\n",
       "      <td>196</td>\n",
       "    </tr>\n",
       "    <tr>\n",
       "      <th>1</th>\n",
       "      <td>2.4</td>\n",
       "      <td>4</td>\n",
       "      <td>9.6</td>\n",
       "      <td>221</td>\n",
       "    </tr>\n",
       "    <tr>\n",
       "      <th>2</th>\n",
       "      <td>1.5</td>\n",
       "      <td>4</td>\n",
       "      <td>5.9</td>\n",
       "      <td>136</td>\n",
       "    </tr>\n",
       "    <tr>\n",
       "      <th>3</th>\n",
       "      <td>3.5</td>\n",
       "      <td>6</td>\n",
       "      <td>11.1</td>\n",
       "      <td>255</td>\n",
       "    </tr>\n",
       "    <tr>\n",
       "      <th>4</th>\n",
       "      <td>3.5</td>\n",
       "      <td>6</td>\n",
       "      <td>10.6</td>\n",
       "      <td>244</td>\n",
       "    </tr>\n",
       "  </tbody>\n",
       "</table>\n",
       "</div>"
      ],
      "text/plain": [
       "   ENGINESIZE  CYLINDERS  FUELCONSUMPTION_COMB  CO2EMISSIONS\n",
       "0         2.0          4                   8.5           196\n",
       "1         2.4          4                   9.6           221\n",
       "2         1.5          4                   5.9           136\n",
       "3         3.5          6                  11.1           255\n",
       "4         3.5          6                  10.6           244"
      ]
     },
     "execution_count": 467,
     "metadata": {},
     "output_type": "execute_result"
    }
   ],
   "source": [
    "cdf = df[['ENGINESIZE', 'CYLINDERS', 'FUELCONSUMPTION_COMB', 'CO2EMISSIONS']]\n",
    "cdf.head()"
   ]
  },
  {
   "cell_type": "markdown",
   "metadata": {},
   "source": [
    "#### hist() of matplotlib is a powerful way to pass a dataframe to visulize the histogram of each column"
   ]
  },
  {
   "cell_type": "code",
   "execution_count": 468,
   "metadata": {},
   "outputs": [
    {
     "data": {
      "text/plain": [
       "array([[<matplotlib.axes._subplots.AxesSubplot object at 0x000001FD10C70588>,\n",
       "        <matplotlib.axes._subplots.AxesSubplot object at 0x000001FD11C9B320>],\n",
       "       [<matplotlib.axes._subplots.AxesSubplot object at 0x000001FD11CC58D0>,\n",
       "        <matplotlib.axes._subplots.AxesSubplot object at 0x000001FD11CF3E80>]],\n",
       "      dtype=object)"
      ]
     },
     "execution_count": 468,
     "metadata": {},
     "output_type": "execute_result"
    },
    {
     "data": {
      "image/png": "[encoded data removed]",
      "text/plain": [
       "<Figure size 432x288 with 4 Axes>"
      ]
     },
     "metadata": {
      "needs_background": "light"
     },
     "output_type": "display_data"
    }
   ],
   "source": [
    "cdf.hist()"
   ]
  },
  {
   "cell_type": "markdown",
   "metadata": {},
   "source": [
    "#### scatter() of matplotlib is a way to pass two columns of a dataframe to do a scatterplot in 2D"
   ]
  },
  {
   "cell_type": "code",
   "execution_count": 469,
   "metadata": {},
   "outputs": [
    {
     "data": {
      "image/png": "[encoded data removed]",
      "text/plain": [
       "<Figure size 432x288 with 1 Axes>"
      ]
     },
     "metadata": {
      "needs_background": "light"
     },
     "output_type": "display_data"
    }
   ],
   "source": [
    "plt.scatter(cdf.FUELCONSUMPTION_COMB, cdf.CO2EMISSIONS, color='blue')\n",
    "plt.xlabel('Fuel Consumption Hwy + City (litres/100 km)')\n",
    "plt.ylabel('Emission of CO2 (grams/kilometer)')\n",
    "plt.title(\"SIMPLE REGRESSION PLOT\")\n",
    "plt.show()"
   ]
  },
  {
   "cell_type": "code",
   "execution_count": 470,
   "metadata": {},
   "outputs": [
    {
     "data": {
      "image/png": "[encoded data removed]",
      "text/plain": [
       "<Figure size 432x288 with 1 Axes>"
      ]
     },
     "metadata": {
      "needs_background": "light"
     },
     "output_type": "display_data"
    }
   ],
   "source": [
    "plt.scatter(cdf.ENGINESIZE, cdf.CO2EMISSIONS, color='red')\n",
    "plt.xlabel('Engine Size (liters)')\n",
    "plt.ylabel('Emission of CO2 (grams/kilometer)')\n",
    "plt.title('SIMPLE REGRESSION PLOT (Emission = m x Engile Size + c)')\n",
    "plt.show()"
   ]
  },
  {
   "cell_type": "code",
   "execution_count": 471,
   "metadata": {},
   "outputs": [
    {
     "data": {
      "image/png": "[encoded data removed]",
      "text/plain": [
       "<Figure size 432x288 with 1 Axes>"
      ]
     },
     "metadata": {
      "needs_background": "light"
     },
     "output_type": "display_data"
    }
   ],
   "source": [
    "plt.scatter(cdf.CYLINDERS, cdf.CO2EMISSIONS, color='green')\n",
    "plt.xlabel('Number of Cylinders')\n",
    "plt.ylabel('CO2 Emission in grams/kilometer')\n",
    "plt.title('Simple Regression Plot')\n",
    "plt.show()"
   ]
  },
  {
   "cell_type": "markdown",
   "metadata": {},
   "source": [
    "### Create training & test datasets (list of lists / arrays / matrices) "
   ]
  },
  {
   "cell_type": "code",
   "execution_count": 472,
   "metadata": {},
   "outputs": [
    {
     "name": "stdout",
     "output_type": "stream",
     "text": [
      "\n",
      " Contents of boolean mask =  [ True  True  True ... False  True  True]\n",
      "\n",
      " Size of the boolean mask =  1067\n",
      "\n",
      " Training dataset head(5): \n",
      "    ENGINESIZE  CYLINDERS  FUELCONSUMPTION_COMB  CO2EMISSIONS\n",
      "0         2.0          4                   8.5           196\n",
      "1         2.4          4                   9.6           221\n",
      "2         1.5          4                   5.9           136\n",
      "3         3.5          6                  11.1           255\n",
      "4         3.5          6                  10.6           244\n",
      "\n",
      " Training dataset length :  851\n",
      "\n",
      " Testing dataset head(5): \n",
      "     ENGINESIZE  CYLINDERS  FUELCONSUMPTION_COMB  CO2EMISSIONS\n",
      "5          3.5          6                  10.0           230\n",
      "6          3.5          6                  10.1           232\n",
      "13         5.9         12                  15.6           359\n",
      "14         4.7          8                  14.7           338\n",
      "17         4.7          8                  15.4           354\n",
      "\n",
      " Testing dataset length :  216\n"
     ]
    }
   ],
   "source": [
    "#Create a Boolean Mask of 1s & 0s using rand() function to randomly pick the boolean value; \n",
    "#  size of the boolean mask / size of the list is = length of the DataFrame number of rows\n",
    "#  the boolean mask computes to a number that is less than the size of the array\n",
    "#  the compliment of boolean mask is the difference between size(length) & selection(msk)\n",
    "msk = np.random.rand(len(df)) < 0.8\n",
    "print('\\n Contents of boolean mask = ', msk)\n",
    "print('\\n Size of the boolean mask = ', msk.size)\n",
    "\n",
    "# Create a training set (list) of boolean mask (the values will be copied randomly but all values are copied)\n",
    "train = cdf[msk]\n",
    "print('\\n Training dataset head(5): \\n',train.head())\n",
    "print('\\n Training dataset length : ', len(train))\n",
    "      \n",
    "# Tilde in front of a number indicates a BitWise NOT (inversing the boolean mask/number)\n",
    "test=cdf[~msk]\n",
    "print('\\n Testing dataset head(5): \\n', test.head())\n",
    "print('\\n Testing dataset length : ', len(test))"
   ]
  },
  {
   "cell_type": "code",
   "execution_count": 473,
   "metadata": {},
   "outputs": [
    {
     "data": {
      "image/png": "[encoded data removed]",
      "text/plain": [
       "<Figure size 432x288 with 1 Axes>"
      ]
     },
     "metadata": {
      "needs_background": "light"
     },
     "output_type": "display_data"
    }
   ],
   "source": [
    "plt.scatter(train.ENGINESIZE, train.CO2EMISSIONS, color='red')\n",
    "plt.xlabel('Engine Size')\n",
    "plt.ylabel('CO2 Emission')\n",
    "plt.title('Regression plot using Training Dataset - size = ')\n",
    "plt.show()"
   ]
  },
  {
   "cell_type": "code",
   "execution_count": 474,
   "metadata": {},
   "outputs": [
    {
     "data": {
      "image/png": "[encoded data removed]",
      "text/plain": [
       "<Figure size 432x288 with 1 Axes>"
      ]
     },
     "metadata": {
      "needs_background": "light"
     },
     "output_type": "display_data"
    }
   ],
   "source": [
    "plt.scatter(test.ENGINESIZE, test.CO2EMISSIONS, color='blue')\n",
    "plt.xlabel('Engine Size')\n",
    "plt.ylabel('CO2 Emissions ')\n",
    "plt.title('Regression plot using Test Dataset')\n",
    "plt.show()"
   ]
  },
  {
   "cell_type": "markdown",
   "metadata": {},
   "source": [
    "## Utilize Sci-Kit Learn (sklearn) a python machine learning library"
   ]
  },
  {
   "cell_type": "markdown",
   "metadata": {},
   "source": [
    "### Use the linear_model module & LinearRegression() object & fit()"
   ]
  },
  {
   "cell_type": "markdown",
   "metadata": {},
   "source": [
    "#### fit() method takes a matrix of independent variables & dependent variable to compute the coeffecients & the intercept (bias)"
   ]
  },
  {
   "cell_type": "code",
   "execution_count": 475,
   "metadata": {},
   "outputs": [
    {
     "name": "stdout",
     "output_type": "stream",
     "text": [
      "Regression Line: Y = MX + C\n",
      "Coefficient(M):  [[39.37744039]]\n",
      "Intercept(Y): [124.22943416]\n"
     ]
    }
   ],
   "source": [
    "from sklearn import linear_model\n",
    "regr = linear_model.LinearRegression()\n",
    "train_x = np.asanyarray(train[['ENGINESIZE']])\n",
    "train_y = np.asanyarray(train[['CO2EMISSIONS']])\n",
    "regr.fit(train_x, train_y)\n",
    "\n",
    "#The coefficients\n",
    "print('Regression Line: Y = MX + C')\n",
    "print('Coefficient(M): ', regr.coef_)\n",
    "print('Intercept(Y):', regr.intercept_)\n",
    "\n"
   ]
  },
  {
   "cell_type": "code",
   "execution_count": 476,
   "metadata": {},
   "outputs": [
    {
     "data": {
      "image/png": "[encoded data removed]",
      "text/plain": [
       "<Figure size 432x288 with 1 Axes>"
      ]
     },
     "metadata": {
      "needs_background": "light"
     },
     "output_type": "display_data"
    }
   ],
   "source": [
    "plt.scatter(train.ENGINESIZE, train.CO2EMISSIONS, color='red')\n",
    "\n",
    "# Retrieve coefficient & intercept from list using list indices & plot the line/model (y = mx + c)\n",
    "#  plot the line or the model by calling pyplot, plot(x,y, '-b'); substitute mx+c for y, & use a blue line  \n",
    "plt.plot(train_x, (regr.coef_[0][0]*train_x) + regr.intercept_, '-b')\n",
    "\n",
    "plt.xlabel('Engine Size')\n",
    "plt.ylabel('CO2 Emission')\n",
    "plt.title('Regression plot using Training Dataset')\n",
    "plt.show()"
   ]
  },
  {
   "cell_type": "markdown",
   "metadata": {},
   "source": [
    "## Utilize numpy library for numerical computations on matrices - more efficient"
   ]
  },
  {
   "cell_type": "markdown",
   "metadata": {},
   "source": [
    "### Utilize r2_score() of python sklearn to compute  \n",
    "\n",
    "#### Compute  $R^2$ = ( $ 1 - {\\frac{Residual Errors Squared}{Mean Errors Squared}}$ )\n",
    "#### $R^2$ = ( $ 1 - {\\frac{Residual Errors Squared}{Mean Errors Squared}}$ \n",
    "\n",
    "#### $R^2$ = $ 1 - {\\frac{(Y_i - Y_f)^2 }{(Y_i - Y_m)^2}}$ \n",
    "\n",
    "#### Residual Errors Squared = $ (Y_i - Y_f)^2 $ , \n",
    "\n",
    "#### Mean Errors Squared     = $ (Y_i - Y_m)^2 $"
   ]
  },
  {
   "cell_type": "code",
   "execution_count": 477,
   "metadata": {},
   "outputs": [
    {
     "name": "stdout",
     "output_type": "stream",
     "text": [
      "First value in the Y hat list is : 262.05\n",
      "M.A.E    : 24.12\n",
      "M.S.E    : 1101.58 \n",
      "R Square : 0.69\n"
     ]
    }
   ],
   "source": [
    "from sklearn.metrics import r2_score\n",
    "\n",
    "test_x = np.asanyarray(test[['ENGINESIZE']])\n",
    "test_y = np.asanyarray(test[['CO2EMISSIONS']])\n",
    "test_y_hat = regr.predict(test_x)\n",
    "\n",
    "# Print first element of Y hat (list), use magic symbol(%) to the value to be interpreted with 2 decimal places \n",
    "print('First value in the Y hat list is : %.2f' % test_y_hat[0])\n",
    "\n",
    "# Use NumPy Array (Matrix) subtraction to compute the Mean Absolute Error (M.A.E)\n",
    "#   use the numerical functions of NumPy library mean() & absolute()\n",
    "print('M.A.E    : %.2f' % np.mean(np.absolute(test_y_hat - test_y)))\n",
    "\n",
    "# Compute Residual Sum of Squares (Mean of Squared Errors) - has to be minimal\n",
    "print('M.S.E    : %.2f ' % np.mean((test_y_hat - test_y)**2))\n",
    "\n",
    "# Compute R square using r2_score of SciKit Learn\n",
    "print('R Square : %.2f' % r2_score(test_y_hat, test_y))\n",
    "\n"
   ]
  },
  {
   "cell_type": "markdown",
   "metadata": {},
   "source": [
    "### Multiple Linear Regression Model \n",
    "\n",
    "$$ y = a_0 + a_1x_1 + a_2x_2 + a_3x_3 $$\n",
    "$$a_0 = bias, x_1 = engine size, x_2 = cylinders, x_3 = mileage; y=emissions $$\n"
   ]
  },
  {
   "cell_type": "code",
   "execution_count": 478,
   "metadata": {},
   "outputs": [
    {
     "name": "stdout",
     "output_type": "stream",
     "text": [
      "The Coefficients are :  [11.5814878   7.00185879  9.53934873]\n",
      "The Bias factor is   :  66.19569202109079\n"
     ]
    }
   ],
   "source": [
    "from sklearn import linear_model\n",
    "mlr = linear_model.LinearRegression()\n",
    "x = np.asanyarray(train[['ENGINESIZE', 'CYLINDERS', 'FUELCONSUMPTION_COMB']])\n",
    "y = np.asanyarray(train['CO2EMISSIONS'])\n",
    "mlr.fit(x,y)\n",
    "\n",
    "#Print The Coefficients, the Bias(intercept) & the Model\n",
    "print(\"The Coefficients are : \", mlr.coef_)\n",
    "print(\"The Bias factor is   : \", mlr.intercept_)\n"
   ]
  },
  {
   "cell_type": "code",
   "execution_count": 479,
   "metadata": {},
   "outputs": [
    {
     "name": "stdout",
     "output_type": "stream",
     "text": [
      "Residual sum of squares: 8278.79\n",
      "Variance score: 0.87\n"
     ]
    }
   ],
   "source": [
    "y_hat = mlr.predict(test[['ENGINESIZE','CYLINDERS','FUELCONSUMPTION_COMB']])\n",
    "x = np.asanyarray(test[['ENGINESIZE','CYLINDERS','FUELCONSUMPTION_COMB']])\n",
    "y = np.asanyarray(test[['CO2EMISSIONS']])\n",
    "print(\"Residual sum of squares: %.2f\"\n",
    "      % np.mean((y_hat - y) ** 2))\n",
    "\n",
    "# Explained variance score: 1 is perfect prediction\n",
    "print('Variance score: %.2f' % mlr.score(x, y))"
   ]
  },
  {
   "cell_type": "markdown",
   "metadata": {},
   "source": [
    "## Create  TRAINING & TESTING datasets to fit the multiple linear regression model "
   ]
  },
  {
   "cell_type": "code",
   "execution_count": 480,
   "metadata": {},
   "outputs": [
    {
     "name": "stdout",
     "output_type": "stream",
     "text": [
      "\n",
      " Contents of boolean mask =  [False  True  True ...  True  True  True]\n",
      "\n",
      " Size of the boolean mask =  1067\n",
      "\n",
      " Training dataset length :  860\n",
      "\n",
      " Training dataset first 5 recs: \n",
      "\n",
      "    ENGINESIZE  CYLINDERS  FUELCONSUMPTION_CITY  FUELCONSUMPTION_HWY  \\\n",
      "1         2.4          4                  11.2                  7.7   \n",
      "2         1.5          4                   6.0                  5.8   \n",
      "3         3.5          6                  12.7                  9.1   \n",
      "4         3.5          6                  12.1                  8.7   \n",
      "5         3.5          6                  11.9                  7.7   \n",
      "\n",
      "   CO2EMISSIONS  \n",
      "1           221  \n",
      "2           136  \n",
      "3           255  \n",
      "4           244  \n",
      "5           230  \n",
      "\n",
      " Testing dataset length :  207\n",
      "\n",
      " Testing dataset first 5 recs: \n",
      "\n",
      "     ENGINESIZE  CYLINDERS  FUELCONSUMPTION_CITY  FUELCONSUMPTION_HWY  \\\n",
      "0          2.0          4                   9.9                  6.7   \n",
      "6          3.5          6                  11.8                  8.1   \n",
      "9          2.4          4                  10.6                  7.5   \n",
      "14         4.7          8                  17.4                 11.3   \n",
      "16         4.7          8                  17.4                 11.3   \n",
      "\n",
      "    CO2EMISSIONS  \n",
      "0            196  \n",
      "6            232  \n",
      "9            212  \n",
      "14           338  \n",
      "16           338  \n"
     ]
    }
   ],
   "source": [
    "# Create a new data frame with same name, 'cdsf'\n",
    "cdf = df[['ENGINESIZE','CYLINDERS','FUELCONSUMPTION_CITY','FUELCONSUMPTION_HWY', 'CO2EMISSIONS']]\n",
    "\n",
    "#Create a Boolean Mask of 1s & 0s using rand() function to randomly pick the boolean value; \n",
    "#  size of the boolean mask / size of the list is = length of the DataFrame number of rows\n",
    "#  the boolean mask computes to a number that is less than the size of the array\n",
    "#  the compliment of boolean mask is the difference between size(length) & selection(msk)\n",
    "msk = np.random.rand(len(cdf)) < 0.8\n",
    "print('\\n Contents of boolean mask = ', msk)\n",
    "print('\\n Size of the boolean mask = ', msk.size)\n",
    "\n",
    "# Create a training set (list) of boolean mask (the values will be copied randomly but all values are copied)\n",
    "train = cdf[msk]\n",
    "print('\\n Training dataset length : ', len(train))\n",
    "print('\\n Training dataset first 5 recs: \\n\\n',train.head())\n",
    "\n",
    "# Tilde in front of a number indicates a BitWise NOT (inversing the boolean mask/number)\n",
    "test=cdf[~msk]\n",
    "print('\\n Testing dataset length : ', len(test))\n",
    "print('\\n Testing dataset first 5 recs: \\n\\n', test.head())\n",
    "\n",
    "# Create a new multiple linear regression instance\n",
    "mlr = linear_model.LinearRegression()\n",
    "\n",
    "x = np.asanyarray(test[['ENGINESIZE','CYLINDERS','FUELCONSUMPTION_CITY', 'FUELCONSUMPTION_HWY']])\n",
    "y = np.asanyarray(test[['CO2EMISSIONS']])\n"
   ]
  },
  {
   "cell_type": "code",
   "execution_count": 481,
   "metadata": {},
   "outputs": [
    {
     "name": "stdout",
     "output_type": "stream",
     "text": [
      "First 5 rows of the transformation matrix A (coefficients):  [[ 2.   4.   9.9  6.7]\n",
      " [ 3.5  6.  11.8  8.1]\n",
      " [ 2.4  4.  10.6  7.5]\n",
      " [ 4.7  8.  17.4 11.3]\n",
      " [ 4.7  8.  17.4 11.3]]\n",
      "First 5 rows of the modeled Vector, or the column matrix Y:  [[196]\n",
      " [232]\n",
      " [212]\n",
      " [338]\n",
      " [338]]\n"
     ]
    }
   ],
   "source": [
    "print('First 5 rows of the transformation matrix A (coefficients): ', x[0:5])\n",
    "print('First 5 rows of the modeled Vector, or the column matrix Y: ', y[0:5])\n"
   ]
  },
  {
   "cell_type": "code",
   "execution_count": 482,
   "metadata": {},
   "outputs": [
    {
     "name": "stdout",
     "output_type": "stream",
     "text": [
      "First 5 rows of the predicted Vector, or the column matrix : [[199.01795477]\n",
      " [247.35831284]\n",
      " [209.01118557]\n",
      " [317.18442078]\n",
      " [317.18442078]]\n"
     ]
    }
   ],
   "source": [
    "# Create the regression model using the arrays\n",
    "mlr.fit(x,y)\n",
    "\n",
    "# Predict the vector \n",
    "y_hat = mlr.predict(test[['ENGINESIZE','CYLINDERS','FUELCONSUMPTION_CITY', 'FUELCONSUMPTION_HWY']])\n",
    "\n",
    "print('First 5 rows of the predicted Vector, or the column matrix :', y_hat[0:5])\n"
   ]
  },
  {
   "cell_type": "code",
   "execution_count": 483,
   "metadata": {},
   "outputs": [
    {
     "name": "stdout",
     "output_type": "stream",
     "text": [
      "Residual sum of the squares for separate mileage features : 431.53\n",
      "Variance in predicted score for separate mileage features : 0.88\n"
     ]
    }
   ],
   "source": [
    "# Print Mean of Squared (Residual)Errors\n",
    "print(\"Residual sum of the squares for separate mileage features : %.2f\"\n",
    "      % np.mean((y_hat - y) ** 2))\n",
    "\n",
    "# Print Explained variance score: 1 is perfect prediction\n",
    "print('Variance in predicted score for separate mileage features : %.2f' % mlr.score(x, y))\n"
   ]
  },
  {
   "cell_type": "markdown",
   "metadata": {},
   "source": [
    "### Polynomial Regression"
   ]
  },
  {
   "cell_type": "code",
   "execution_count": 484,
   "metadata": {},
   "outputs": [
    {
     "data": {
      "text/html": [
       "<div>\n",
       "<style scoped>\n",
       "    .dataframe tbody tr th:only-of-type {\n",
       "        vertical-align: middle;\n",
       "    }\n",
       "\n",
       "    .dataframe tbody tr th {\n",
       "        vertical-align: top;\n",
       "    }\n",
       "\n",
       "    .dataframe thead th {\n",
       "        text-align: right;\n",
       "    }\n",
       "</style>\n",
       "<table border=\"1\" class=\"dataframe\">\n",
       "  <thead>\n",
       "    <tr style=\"text-align: right;\">\n",
       "      <th></th>\n",
       "      <th>ENGINESIZE</th>\n",
       "      <th>CYLINDERS</th>\n",
       "      <th>FUELCONSUMPTION_COMB</th>\n",
       "      <th>CO2EMISSIONS</th>\n",
       "    </tr>\n",
       "  </thead>\n",
       "  <tbody>\n",
       "    <tr>\n",
       "      <th>0</th>\n",
       "      <td>2.0</td>\n",
       "      <td>4</td>\n",
       "      <td>8.5</td>\n",
       "      <td>196</td>\n",
       "    </tr>\n",
       "    <tr>\n",
       "      <th>1</th>\n",
       "      <td>2.4</td>\n",
       "      <td>4</td>\n",
       "      <td>9.6</td>\n",
       "      <td>221</td>\n",
       "    </tr>\n",
       "    <tr>\n",
       "      <th>2</th>\n",
       "      <td>1.5</td>\n",
       "      <td>4</td>\n",
       "      <td>5.9</td>\n",
       "      <td>136</td>\n",
       "    </tr>\n",
       "    <tr>\n",
       "      <th>3</th>\n",
       "      <td>3.5</td>\n",
       "      <td>6</td>\n",
       "      <td>11.1</td>\n",
       "      <td>255</td>\n",
       "    </tr>\n",
       "    <tr>\n",
       "      <th>4</th>\n",
       "      <td>3.5</td>\n",
       "      <td>6</td>\n",
       "      <td>10.6</td>\n",
       "      <td>244</td>\n",
       "    </tr>\n",
       "  </tbody>\n",
       "</table>\n",
       "</div>"
      ],
      "text/plain": [
       "   ENGINESIZE  CYLINDERS  FUELCONSUMPTION_COMB  CO2EMISSIONS\n",
       "0         2.0          4                   8.5           196\n",
       "1         2.4          4                   9.6           221\n",
       "2         1.5          4                   5.9           136\n",
       "3         3.5          6                  11.1           255\n",
       "4         3.5          6                  10.6           244"
      ]
     },
     "execution_count": 484,
     "metadata": {},
     "output_type": "execute_result"
    }
   ],
   "source": [
    "# Import PolynomialFeatures class from preprocessing libraries of Sci-Kit Learn\n",
    "from sklearn.preprocessing import PolynomialFeatures\n",
    "from sklearn import linear_model\n",
    "\n",
    "# Reset the DataFrame to use Highway & City Combined Mileage\n",
    "cdf = df[['ENGINESIZE','CYLINDERS','FUELCONSUMPTION_COMB','CO2EMISSIONS']]\n",
    "cdf.head(5)\n",
    "\n"
   ]
  },
  {
   "cell_type": "code",
   "execution_count": 485,
   "metadata": {},
   "outputs": [
    {
     "data": {
      "image/png": "[encoded data removed]",
      "text/plain": [
       "<Figure size 432x288 with 1 Axes>"
      ]
     },
     "metadata": {
      "needs_background": "light"
     },
     "output_type": "display_data"
    }
   ],
   "source": [
    "# Again quickly visualize the scatter plot of mapping just the engine size \n",
    "#   recall that the largest coefficient is Engine Size & hence the most significant feature\n",
    "plt.scatter(cdf.ENGINESIZE, cdf.CO2EMISSIONS,  color='blue')\n",
    "plt.xlabel(\"Engine size\")\n",
    "plt.ylabel(\"Emission\")\n",
    "plt.show()"
   ]
  },
  {
   "cell_type": "code",
   "execution_count": 486,
   "metadata": {},
   "outputs": [
    {
     "name": "stdout",
     "output_type": "stream",
     "text": [
      "The Polynomial Equation is Y hat = a0 + a1(X) + a2(Xsq)\n",
      "\n",
      "The values of the guessed 3rd order polynomial are : \n",
      "\n"
     ]
    },
    {
     "data": {
      "text/plain": [
       "array([[ 1.  ,  2.4 ,  5.76],\n",
       "       [ 1.  ,  1.5 ,  2.25],\n",
       "       [ 1.  ,  3.5 , 12.25],\n",
       "       ...,\n",
       "       [ 1.  ,  3.  ,  9.  ],\n",
       "       [ 1.  ,  3.2 , 10.24],\n",
       "       [ 1.  ,  3.2 , 10.24]])"
      ]
     },
     "execution_count": 486,
     "metadata": {},
     "output_type": "execute_result"
    }
   ],
   "source": [
    "# Split the Data into Testing & Training Data using a random boolean mask \n",
    "msk = np.random.rand(len(df)) < 0.8\n",
    "train = cdf[msk]\n",
    "test = cdf[~msk]\n",
    "\n",
    "# Create the vectors for Training Model (simple regression - 1 variable)\n",
    "train_x = np.asanyarray(train[['ENGINESIZE']])\n",
    "train_y = np.asanyarray(train[['CO2EMISSIONS']])\n",
    "\n",
    "# Create the vectors for the Testing Model (simple regression - 1 variable)\n",
    "test_x = np.asanyarray(test[['ENGINESIZE']])\n",
    "test_y = np.asanyarray(test[['CO2EMISSIONS']])\n",
    "\n",
    "# Use a 2nd degree polynomial function to fit the Training DAta (degree of polynomial is a guess)\n",
    "print ('The Polynomial Equation is Y hat = a0 + a1(X) + a2(Xsq)\\n')\n",
    "poly = PolynomialFeatures(degree=2)\n",
    "train_x_poly = poly.fit_transform(train_x)\n",
    "\n",
    "print('The values of the guessed 3rd order polynomial are : \\n')\n",
    "train_x_poly"
   ]
  },
  {
   "cell_type": "code",
   "execution_count": 487,
   "metadata": {},
   "outputs": [
    {
     "name": "stdout",
     "output_type": "stream",
     "text": [
      "The 3 Coefficients of LR model :  [[ 0.         50.33310875 -1.57959304]]\n",
      "The Intercept of the LR model  :  [107.85844261]\n"
     ]
    }
   ],
   "source": [
    "# Now also fit the data to a linear regression model and compute the 3 coefficients & intercept\n",
    "clf = linear_model.LinearRegression()\n",
    "train_y_ = clf.fit(train_x_poly, train_y)\n",
    "# The coefficients\n",
    "print ('The 3 Coefficients of LR model : ', clf.coef_)\n",
    "print ('The Intercept of the LR model  : ',clf.intercept_)"
   ]
  },
  {
   "cell_type": "code",
   "execution_count": 488,
   "metadata": {},
   "outputs": [
    {
     "data": {
      "text/plain": [
       "Text(0, 0.5, 'Carbon Dioxide Emissions (gms/km)')"
      ]
     },
     "execution_count": 488,
     "metadata": {},
     "output_type": "execute_result"
    },
    {
     "data": {
      "image/png": "[encoded data removed]",
      "text/plain": [
       "<Figure size 432x288 with 1 Axes>"
      ]
     },
     "metadata": {
      "needs_background": "light"
     },
     "output_type": "display_data"
    }
   ],
   "source": [
    "# Use a Scatter Plot using scatter(x,y,color='color name')\n",
    "plt.scatter(train.ENGINESIZE, train.CO2EMISSIONS, color='blue')\n",
    "\n",
    "# Let's assume that the coefficients are 0, 10 & 0.1 (arrange them as a numpy array)\n",
    "XX = np.arange(0.0, 10.0, 0.1)\n",
    "\n",
    "#Create a Polynomial Regression (it is an array)\n",
    "yy = clf.intercept_[0]+ clf.coef_[0][1]*XX+ clf.coef_[0][2]*np.power(XX, 2)\n",
    "\n",
    "# Add regression line to the scatter plot (layer)\n",
    "plt.plot(XX, yy, '-r' )\n",
    "plt.xlabel('Engine Size')\n",
    "plt.ylabel('Carbon Dioxide Emissions (gms/km)')"
   ]
  },
  {
   "cell_type": "code",
   "execution_count": 489,
   "metadata": {},
   "outputs": [
    {
     "name": "stdout",
     "output_type": "stream",
     "text": [
      "Mean absolute error: 24.31\n",
      "Residual sum of squares (MSE): 1019.41\n",
      "R2-score: 0.64\n"
     ]
    }
   ],
   "source": [
    "# Evaluate the Errors of the polynomial regression\n",
    "from sklearn.metrics import r2_score\n",
    "\n",
    "test_x_poly = poly.fit_transform(test_x)\n",
    "test_y_ = clf.predict(test_x_poly)\n",
    "\n",
    "print(\"Mean absolute error: %.2f\" % np.mean(np.absolute(test_y_ - test_y)))\n",
    "print(\"Residual sum of squares (MSE): %.2f\" % np.mean((test_y_ - test_y) ** 2))\n",
    "print(\"R2-score: %.2f\" % r2_score(test_y_ , test_y) )"
   ]
  },
  {
   "cell_type": "markdown",
   "metadata": {},
   "source": [
    "##### Let us investigate errors using a third degree polynomial"
   ]
  },
  {
   "cell_type": "code",
   "execution_count": 490,
   "metadata": {},
   "outputs": [
    {
     "name": "stdout",
     "output_type": "stream",
     "text": [
      "The Polynomial Equation is Y hat = a0 + a1(X) + a2(Xsq) + a3(Xcu)\n",
      "\n",
      "The values of the guessed 3rd order polynomial are : \n",
      "___________________________________________________\n",
      "\n"
     ]
    },
    {
     "data": {
      "text/plain": [
       "array([[ 1.   ,  2.4  ,  5.76 , 13.824],\n",
       "       [ 1.   ,  1.5  ,  2.25 ,  3.375],\n",
       "       [ 1.   ,  3.5  , 12.25 , 42.875],\n",
       "       ...,\n",
       "       [ 1.   ,  3.   ,  9.   , 27.   ],\n",
       "       [ 1.   ,  3.2  , 10.24 , 32.768],\n",
       "       [ 1.   ,  3.2  , 10.24 , 32.768]])"
      ]
     },
     "execution_count": 490,
     "metadata": {},
     "output_type": "execute_result"
    }
   ],
   "source": [
    "# Use the same split of the Data from before; split into Testing & Training Data using a random boolean mask \n",
    "#msk = np.random.rand(len(df)) < 0.8\n",
    "#train = cdf[msk]\n",
    "#test = cdf[~msk]\n",
    "\n",
    "# Create the vectors for Training Model (simple regression - 1 variable)\n",
    "train_x = np.asanyarray(train[['ENGINESIZE']])\n",
    "train_y = np.asanyarray(train[['CO2EMISSIONS']])\n",
    "\n",
    "# Create the vectors for the Testing Model (simple regression - 1 variable)\n",
    "test_x = np.asanyarray(test[['ENGINESIZE']])\n",
    "test_y = np.asanyarray(test[['CO2EMISSIONS']])\n",
    "\n",
    "# Use a 3rd degree polynomial function to fit the Training DAta (degree of polynomial is a guess)\n",
    "print ('The Polynomial Equation is Y hat = a0 + a1(X) + a2(Xsq) + a3(Xcu)\\n')\n",
    "poly = PolynomialFeatures(degree=3)\n",
    "train_x_poly = poly.fit_transform(train_x)\n",
    "\n",
    "print('The values of the guessed 3rd order polynomial are : \\n___________________________________________________\\n')\n",
    "train_x_poly"
   ]
  },
  {
   "cell_type": "code",
   "execution_count": 491,
   "metadata": {},
   "outputs": [
    {
     "name": "stdout",
     "output_type": "stream",
     "text": [
      "Coefficients :  [[ 0.         30.68586333  3.97057483 -0.47255188]]\n",
      "Intercept    :  [128.25754654]\n"
     ]
    }
   ],
   "source": [
    "# Now also fit the data to a linear regression model and compute the 4 coefficients & intercept\n",
    "clf = linear_model.LinearRegression()\n",
    "train_y_ = clf.fit(train_x_poly, train_y)\n",
    "\n",
    "# The coefficients\n",
    "print ('Coefficients : ', clf.coef_)\n",
    "print ('Intercept    : ',clf.intercept_)"
   ]
  },
  {
   "cell_type": "markdown",
   "metadata": {},
   "source": [
    "##### Fit the 3rd degree polynomial to the data"
   ]
  },
  {
   "cell_type": "code",
   "execution_count": 492,
   "metadata": {},
   "outputs": [
    {
     "data": {
      "text/plain": [
       "Text(0, 0.5, 'Carbon Dioxide Emissions (gms/km)')"
      ]
     },
     "execution_count": 492,
     "metadata": {},
     "output_type": "execute_result"
    },
    {
     "data": {
      "image/png": "[encoded data removed]",
      "text/plain": [
       "<Figure size 432x288 with 1 Axes>"
      ]
     },
     "metadata": {
      "needs_background": "light"
     },
     "output_type": "display_data"
    }
   ],
   "source": [
    "plt.scatter(train.ENGINESIZE, train.CO2EMISSIONS,  color='blue')\n",
    "XX = np.arange(0.0, 10.0, 0.1)\n",
    "yy = clf.intercept_[0]+ clf.coef_[0][1]*XX+ clf.coef_[0][2]*np.power(XX, 2)+ clf.coef_[0][3]*np.power(XX, 3)\n",
    "plt.plot(XX, yy, '-r' )\n",
    "plt.xlabel(\"Engine size\")\n",
    "plt.ylabel(\"Carbon Dioxide Emissions (gms/km)\")"
   ]
  },
  {
   "cell_type": "code",
   "execution_count": 493,
   "metadata": {},
   "outputs": [
    {
     "name": "stdout",
     "output_type": "stream",
     "text": [
      "Mean absolute error: 24.16\n",
      "Residual sum of squares (MSE): 1014.16\n",
      "R2-score: 0.64\n"
     ]
    }
   ],
   "source": [
    "from sklearn.metrics import r2_score\n",
    "\n",
    "test_x_poly = poly.fit_transform(test_x)\n",
    "test_y_ = clf.predict(test_x_poly)\n",
    "\n",
    "print(\"Mean absolute error: %.2f\" % np.mean(np.absolute(test_y_ - test_y)))\n",
    "print(\"Residual sum of squares (MSE): %.2f\" % np.mean((test_y_ - test_y) ** 2))\n",
    "print(\"R2-score: %.2f\" % r2_score(test_y_ , test_y) )"
   ]
  },
  {
   "cell_type": "markdown",
   "metadata": {},
   "source": [
    "### Non-Linear Regression Analysis"
   ]
  },
  {
   "cell_type": "code",
   "execution_count": 494,
   "metadata": {},
   "outputs": [
    {
     "data": {
      "text/plain": [
       "array([-5.00000000e+00, -4.90000000e+00, -4.80000000e+00, -4.70000000e+00,\n",
       "       -4.60000000e+00, -4.50000000e+00, -4.40000000e+00, -4.30000000e+00,\n",
       "       -4.20000000e+00, -4.10000000e+00, -4.00000000e+00, -3.90000000e+00,\n",
       "       -3.80000000e+00, -3.70000000e+00, -3.60000000e+00, -3.50000000e+00,\n",
       "       -3.40000000e+00, -3.30000000e+00, -3.20000000e+00, -3.10000000e+00,\n",
       "       -3.00000000e+00, -2.90000000e+00, -2.80000000e+00, -2.70000000e+00,\n",
       "       -2.60000000e+00, -2.50000000e+00, -2.40000000e+00, -2.30000000e+00,\n",
       "       -2.20000000e+00, -2.10000000e+00, -2.00000000e+00, -1.90000000e+00,\n",
       "       -1.80000000e+00, -1.70000000e+00, -1.60000000e+00, -1.50000000e+00,\n",
       "       -1.40000000e+00, -1.30000000e+00, -1.20000000e+00, -1.10000000e+00,\n",
       "       -1.00000000e+00, -9.00000000e-01, -8.00000000e-01, -7.00000000e-01,\n",
       "       -6.00000000e-01, -5.00000000e-01, -4.00000000e-01, -3.00000000e-01,\n",
       "       -2.00000000e-01, -1.00000000e-01, -1.77635684e-14,  1.00000000e-01,\n",
       "        2.00000000e-01,  3.00000000e-01,  4.00000000e-01,  5.00000000e-01,\n",
       "        6.00000000e-01,  7.00000000e-01,  8.00000000e-01,  9.00000000e-01,\n",
       "        1.00000000e+00,  1.10000000e+00,  1.20000000e+00,  1.30000000e+00,\n",
       "        1.40000000e+00,  1.50000000e+00,  1.60000000e+00,  1.70000000e+00,\n",
       "        1.80000000e+00,  1.90000000e+00,  2.00000000e+00,  2.10000000e+00,\n",
       "        2.20000000e+00,  2.30000000e+00,  2.40000000e+00,  2.50000000e+00,\n",
       "        2.60000000e+00,  2.70000000e+00,  2.80000000e+00,  2.90000000e+00,\n",
       "        3.00000000e+00,  3.10000000e+00,  3.20000000e+00,  3.30000000e+00,\n",
       "        3.40000000e+00,  3.50000000e+00,  3.60000000e+00,  3.70000000e+00,\n",
       "        3.80000000e+00,  3.90000000e+00,  4.00000000e+00,  4.10000000e+00,\n",
       "        4.20000000e+00,  4.30000000e+00,  4.40000000e+00,  4.50000000e+00,\n",
       "        4.60000000e+00,  4.70000000e+00,  4.80000000e+00,  4.90000000e+00])"
      ]
     },
     "execution_count": 494,
     "metadata": {},
     "output_type": "execute_result"
    }
   ],
   "source": [
    "# Create a numpy array with array range (ar-range), adding elements to the array \n",
    "#   starting with -5.- incrementing by 0.1, until 5.0\n",
    "x = np.arange(-5.0, 5.0, 0.1)\n",
    "\n",
    "# Print the independent numpy array 'x' to the console\n",
    "x"
   ]
  },
  {
   "cell_type": "code",
   "execution_count": 495,
   "metadata": {},
   "outputs": [
    {
     "name": "stdout",
     "output_type": "stream",
     "text": [
      "Create a linear equation as y = 2x + 3, where 2 is the slope & 3 is the y intercept\n"
     ]
    },
    {
     "data": {
      "text/plain": [
       "array([-7.00000000e+00, -6.80000000e+00, -6.60000000e+00, -6.40000000e+00,\n",
       "       -6.20000000e+00, -6.00000000e+00, -5.80000000e+00, -5.60000000e+00,\n",
       "       -5.40000000e+00, -5.20000000e+00, -5.00000000e+00, -4.80000000e+00,\n",
       "       -4.60000000e+00, -4.40000000e+00, -4.20000000e+00, -4.00000000e+00,\n",
       "       -3.80000000e+00, -3.60000000e+00, -3.40000000e+00, -3.20000000e+00,\n",
       "       -3.00000000e+00, -2.80000000e+00, -2.60000000e+00, -2.40000000e+00,\n",
       "       -2.20000000e+00, -2.00000000e+00, -1.80000000e+00, -1.60000000e+00,\n",
       "       -1.40000000e+00, -1.20000000e+00, -1.00000000e+00, -8.00000000e-01,\n",
       "       -6.00000000e-01, -4.00000000e-01, -2.00000000e-01, -2.48689958e-14,\n",
       "        2.00000000e-01,  4.00000000e-01,  6.00000000e-01,  8.00000000e-01,\n",
       "        1.00000000e+00,  1.20000000e+00,  1.40000000e+00,  1.60000000e+00,\n",
       "        1.80000000e+00,  2.00000000e+00,  2.20000000e+00,  2.40000000e+00,\n",
       "        2.60000000e+00,  2.80000000e+00,  3.00000000e+00,  3.20000000e+00,\n",
       "        3.40000000e+00,  3.60000000e+00,  3.80000000e+00,  4.00000000e+00,\n",
       "        4.20000000e+00,  4.40000000e+00,  4.60000000e+00,  4.80000000e+00,\n",
       "        5.00000000e+00,  5.20000000e+00,  5.40000000e+00,  5.60000000e+00,\n",
       "        5.80000000e+00,  6.00000000e+00,  6.20000000e+00,  6.40000000e+00,\n",
       "        6.60000000e+00,  6.80000000e+00,  7.00000000e+00,  7.20000000e+00,\n",
       "        7.40000000e+00,  7.60000000e+00,  7.80000000e+00,  8.00000000e+00,\n",
       "        8.20000000e+00,  8.40000000e+00,  8.60000000e+00,  8.80000000e+00,\n",
       "        9.00000000e+00,  9.20000000e+00,  9.40000000e+00,  9.60000000e+00,\n",
       "        9.80000000e+00,  1.00000000e+01,  1.02000000e+01,  1.04000000e+01,\n",
       "        1.06000000e+01,  1.08000000e+01,  1.10000000e+01,  1.12000000e+01,\n",
       "        1.14000000e+01,  1.16000000e+01,  1.18000000e+01,  1.20000000e+01,\n",
       "        1.22000000e+01,  1.24000000e+01,  1.26000000e+01,  1.28000000e+01])"
      ]
     },
     "execution_count": 495,
     "metadata": {},
     "output_type": "execute_result"
    }
   ],
   "source": [
    "print (\"Create a linear equation as y = 2x + 3, where 2 is the slope & 3 is the y intercept\")\n",
    "##You can adjust the slope and intercept to verify the changes in the graph\n",
    "y = 2*(x) + 3\n",
    "\n",
    "# Print the dependent numpy array, 'y' to the console\n",
    "y\n"
   ]
  },
  {
   "cell_type": "code",
   "execution_count": 496,
   "metadata": {},
   "outputs": [
    {
     "data": {
      "text/plain": [
       "array([ 3.16221362,  0.32410175,  3.01089086, -4.82887251, -1.31622257,\n",
       "        1.78360927, -1.82295862, -1.38044576, -1.63463449, -2.65509875,\n",
       "       -1.00731548, -2.97293931, -2.72192602,  1.55368445, -1.63725965,\n",
       "       -0.78114502, -0.48755278, -0.99701198, -3.08458118,  1.22310519,\n",
       "       -2.28653967, -0.5457756 , -0.94590783,  1.41270009,  1.61215676,\n",
       "       -1.08900421, -1.54675123,  2.29816304,  1.78096154,  1.20440178,\n",
       "       -2.06582491, -2.98754799,  2.51867699,  0.49690947, -3.51185201,\n",
       "       -1.41200949,  0.44051578, -0.05823891,  2.22089094,  2.19159603,\n",
       "        0.6348976 ,  0.28440962,  1.34121144,  0.09489875,  0.0608654 ,\n",
       "       -1.90619901, -0.64133531, -2.18714864, -0.41907771, -0.47076191,\n",
       "        0.2823523 , -3.51097373, -2.05931448,  2.38138342,  1.38425954,\n",
       "        0.94094033,  0.03556667,  1.48615151,  0.3861955 ,  0.05253365,\n",
       "       -2.62220642,  3.06143779, -1.08427636,  0.8447041 , -1.08062783,\n",
       "       -0.74546247,  2.38917251,  4.33226882, -0.48768254,  1.37041919,\n",
       "       -2.3927492 ,  0.68324561, -2.00898047, -3.17702095,  1.01989318,\n",
       "       -1.14868171,  0.16843148, -0.55103407, -1.79646913,  0.92743413,\n",
       "       -0.91278209,  1.14930792,  2.34790465, -0.11345208,  2.24924566,\n",
       "       -4.38322291,  3.50802317, -0.16474398, -1.58623364, -5.05066606,\n",
       "        0.02511133,  0.34018579, -1.77027947, -0.05406182,  3.59011487,\n",
       "        0.26445954, -1.33020707, -0.44224725,  2.89889857,  2.02659393])"
      ]
     },
     "execution_count": 496,
     "metadata": {},
     "output_type": "execute_result"
    }
   ],
   "source": [
    "# Generate a numpy array of random noise using x.\n",
    "#   size of the noise array is same as the size of numpy array x (hence the .size)\n",
    "noise = 2 * np.random.normal(size=x.size)\n",
    "\n",
    "# Print the noise array\n",
    "noise\n"
   ]
  },
  {
   "cell_type": "code",
   "execution_count": 497,
   "metadata": {},
   "outputs": [
    {
     "data": {
      "text/plain": [
       "array([-3.83778638e+00, -6.47589825e+00, -3.58910914e+00, -1.12288725e+01,\n",
       "       -7.51622257e+00, -4.21639073e+00, -7.62295862e+00, -6.98044576e+00,\n",
       "       -7.03463449e+00, -7.85509875e+00, -6.00731548e+00, -7.77293931e+00,\n",
       "       -7.32192602e+00, -2.84631555e+00, -5.83725965e+00, -4.78114502e+00,\n",
       "       -4.28755278e+00, -4.59701198e+00, -6.48458118e+00, -1.97689481e+00,\n",
       "       -5.28653967e+00, -3.34577560e+00, -3.54590783e+00, -9.87299907e-01,\n",
       "       -5.87843236e-01, -3.08900421e+00, -3.34675123e+00,  6.98163042e-01,\n",
       "        3.80961542e-01,  4.40178241e-03, -3.06582491e+00, -3.78754799e+00,\n",
       "        1.91867699e+00,  9.69094702e-02, -3.71185201e+00, -1.41200949e+00,\n",
       "        6.40515778e-01,  3.41761087e-01,  2.82089094e+00,  2.99159603e+00,\n",
       "        1.63489760e+00,  1.48440962e+00,  2.74121144e+00,  1.69489875e+00,\n",
       "        1.86086540e+00,  9.38009911e-02,  1.55866469e+00,  2.12851357e-01,\n",
       "        2.18092229e+00,  2.32923809e+00,  3.28235230e+00, -3.10973731e-01,\n",
       "        1.34068552e+00,  5.98138342e+00,  5.18425954e+00,  4.94094033e+00,\n",
       "        4.23556667e+00,  5.88615151e+00,  4.98619550e+00,  4.85253365e+00,\n",
       "        2.37779358e+00,  8.26143779e+00,  4.31572364e+00,  6.44470410e+00,\n",
       "        4.71937217e+00,  5.25453753e+00,  8.58917251e+00,  1.07322688e+01,\n",
       "        6.11231746e+00,  8.17041919e+00,  4.60725080e+00,  7.88324561e+00,\n",
       "        5.39101953e+00,  4.42297905e+00,  8.81989318e+00,  6.85131829e+00,\n",
       "        8.36843148e+00,  7.84896593e+00,  6.80353087e+00,  9.72743413e+00,\n",
       "        8.08721791e+00,  1.03493079e+01,  1.17479046e+01,  9.48654792e+00,\n",
       "        1.20492457e+01,  5.61677709e+00,  1.37080232e+01,  1.02352560e+01,\n",
       "        9.01376636e+00,  5.74933394e+00,  1.10251113e+01,  1.15401858e+01,\n",
       "        9.62972053e+00,  1.15459382e+01,  1.53901149e+01,  1.22644595e+01,\n",
       "        1.08697929e+01,  1.19577528e+01,  1.54988986e+01,  1.48265939e+01])"
      ]
     },
     "execution_count": 497,
     "metadata": {},
     "output_type": "execute_result"
    }
   ],
   "source": [
    "# Add the noise to the dependent variable & call that y_noise\n",
    "\n",
    "noisy_y = y + noise\n",
    "\n",
    "# Print noisy_y\n",
    "noisy_y"
   ]
  },
  {
   "cell_type": "code",
   "execution_count": 498,
   "metadata": {},
   "outputs": [
    {
     "data": {
      "text/plain": [
       "Text(0.5, 0, 'X Independent variable')"
      ]
     },
     "execution_count": 498,
     "metadata": {},
     "output_type": "execute_result"
    },
    {
     "data": {
      "image/png": "[encoded data removed]",
      "text/plain": [
       "<Figure size 432x288 with 1 Axes>"
      ]
     },
     "metadata": {
      "needs_background": "light"
     },
     "output_type": "display_data"
    }
   ],
   "source": [
    "# Plot the noisy data using the numpy arrays x & noisy_y\n",
    "plt.plot(x, noisy_y, 'b') #plots a blue zig-zag line connecting all the (x,y) coordinates\n",
    "plt.ylabel('Y Dependent variable')\n",
    "plt.xlabel('X Independent variable')"
   ]
  },
  {
   "cell_type": "code",
   "execution_count": 499,
   "metadata": {},
   "outputs": [
    {
     "data": {
      "text/plain": [
       "Text(0.5, 0, 'X Data')"
      ]
     },
     "execution_count": 499,
     "metadata": {},
     "output_type": "execute_result"
    },
    {
     "data": {
      "image/png": "[encoded data removed]",
      "text/plain": [
       "<Figure size 432x288 with 1 Axes>"
      ]
     },
     "metadata": {
      "needs_background": "light"
     },
     "output_type": "display_data"
    }
   ],
   "source": [
    "# Plot the noisy data using the numpy arrays x & noisy_y\n",
    "plt.plot(x, noisy_y, 'b+') #scatter plot the blue + markers representing (x,y) coordinates\n",
    "plt.ylabel('Y Data with Noise')\n",
    "plt.xlabel('X Data')"
   ]
  },
  {
   "cell_type": "code",
   "execution_count": 500,
   "metadata": {},
   "outputs": [
    {
     "data": {
      "text/plain": [
       "Text(0.5, 0, 'Independent Variable')"
      ]
     },
     "execution_count": 500,
     "metadata": {},
     "output_type": "execute_result"
    },
    {
     "data": {
      "image/png": "[encoded data removed]",
      "text/plain": [
       "<Figure size 432x288 with 1 Axes>"
      ]
     },
     "metadata": {
      "needs_background": "light"
     },
     "output_type": "display_data"
    }
   ],
   "source": [
    "# Plot the noisy data using the numpy arrays x & noisy_y\n",
    "plt.plot(x, noisy_y, 'bo') #scatter plot the blue circle markers representing (x,y) coordinates\n",
    "plt.ylabel('Dependent Variable')\n",
    "plt.xlabel('Independent Variable')"
   ]
  },
  {
   "cell_type": "code",
   "execution_count": 501,
   "metadata": {},
   "outputs": [
    {
     "data": {
      "text/plain": [
       "[<matplotlib.lines.Line2D at 0x1fd10aa0dd8>]"
      ]
     },
     "execution_count": 501,
     "metadata": {},
     "output_type": "execute_result"
    },
    {
     "data": {
      "image/png": "[encoded data removed]",
      "text/plain": [
       "<Figure size 432x288 with 1 Axes>"
      ]
     },
     "metadata": {
      "needs_background": "light"
     },
     "output_type": "display_data"
    }
   ],
   "source": [
    "# Let's add a line that actually represents the y=2x+3, which is supposed to fit the scatter plot\n",
    "\n",
    "# Plot the noisy data using the numpy arrays x & noisy_y\n",
    "plt.plot(x, noisy_y, 'bo') #scatter plot the blue + markers representing (x,y) coordinates\n",
    "plt.ylabel('Dependent Variable')\n",
    "plt.xlabel('Independent Variable')\n",
    "plt.title('LINEAR REGRESSION MODEL (y=2x+3)')\n",
    "plt.plot(x,y,'r') # the default is a line\n"
   ]
  },
  {
   "cell_type": "code",
   "execution_count": 502,
   "metadata": {},
   "outputs": [
    {
     "data": {
      "text/plain": [
       "[<matplotlib.lines.Line2D at 0x1fd10b5a3c8>]"
      ]
     },
     "execution_count": 502,
     "metadata": {},
     "output_type": "execute_result"
    },
    {
     "data": {
      "image/png": "[encoded data removed]",
      "text/plain": [
       "<Figure size 432x288 with 1 Axes>"
      ]
     },
     "metadata": {
      "needs_background": "light"
     },
     "output_type": "display_data"
    }
   ],
   "source": [
    "# What happens when we change the slope & intercept (let's say y=3x+4)\n",
    "y = 3*(x) + 4\n",
    "\n",
    "#   size of the noise array is same as the size of numpy array x (hence the .size)\n",
    "#     increase the noise proportionate to coefficient of x\n",
    "noise = 3 * np.random.normal(size=x.size)\n",
    "\n",
    "# Add noise to y\n",
    "noisy_y = y + noise\n",
    "\n",
    "# Plot the data & the line\n",
    "\n",
    "plt.plot(x, noisy_y, 'bo')\n",
    "plt.ylabel('Dependent variable')\n",
    "plt.xlabel('Independent variable')\n",
    "plt.plot(x, y,'r')\n"
   ]
  },
  {
   "cell_type": "code",
   "execution_count": 503,
   "metadata": {},
   "outputs": [
    {
     "data": {
      "text/plain": [
       "array([-1.02000e+02, -9.55390e+01, -8.93520e+01, -8.34330e+01,\n",
       "       -7.77760e+01, -7.23750e+01, -6.72240e+01, -6.23170e+01,\n",
       "       -5.76480e+01, -5.32110e+01, -4.90000e+01, -4.50090e+01,\n",
       "       -4.12320e+01, -3.76630e+01, -3.42960e+01, -3.11250e+01,\n",
       "       -2.81440e+01, -2.53470e+01, -2.27280e+01, -2.02810e+01,\n",
       "       -1.80000e+01, -1.58790e+01, -1.39120e+01, -1.20930e+01,\n",
       "       -1.04160e+01, -8.87500e+00, -7.46400e+00, -6.17700e+00,\n",
       "       -5.00800e+00, -3.95100e+00, -3.00000e+00, -2.14900e+00,\n",
       "       -1.39200e+00, -7.23000e-01, -1.36000e-01,  3.75000e-01,\n",
       "        8.16000e-01,  1.19300e+00,  1.51200e+00,  1.77900e+00,\n",
       "        2.00000e+00,  2.18100e+00,  2.32800e+00,  2.44700e+00,\n",
       "        2.54400e+00,  2.62500e+00,  2.69600e+00,  2.76300e+00,\n",
       "        2.83200e+00,  2.90900e+00,  3.00000e+00,  3.11100e+00,\n",
       "        3.24800e+00,  3.41700e+00,  3.62400e+00,  3.87500e+00,\n",
       "        4.17600e+00,  4.53300e+00,  4.95200e+00,  5.43900e+00,\n",
       "        6.00000e+00,  6.64100e+00,  7.36800e+00,  8.18700e+00,\n",
       "        9.10400e+00,  1.01250e+01,  1.12560e+01,  1.25030e+01,\n",
       "        1.38720e+01,  1.53690e+01,  1.70000e+01,  1.87710e+01,\n",
       "        2.06880e+01,  2.27570e+01,  2.49840e+01,  2.73750e+01,\n",
       "        2.99360e+01,  3.26730e+01,  3.55920e+01,  3.86990e+01,\n",
       "        4.20000e+01,  4.55010e+01,  4.92080e+01,  5.31270e+01,\n",
       "        5.72640e+01,  6.16250e+01,  6.62160e+01,  7.10430e+01,\n",
       "        7.61120e+01,  8.14290e+01,  8.70000e+01,  9.28310e+01,\n",
       "        9.89280e+01,  1.05297e+02,  1.11944e+02,  1.18875e+02,\n",
       "        1.26096e+02,  1.33613e+02,  1.41432e+02,  1.49559e+02])"
      ]
     },
     "execution_count": 503,
     "metadata": {},
     "output_type": "execute_result"
    }
   ],
   "source": [
    "# Let's invent a non-linear 3-degree polynomial function called y = cube(x) + square(x) + x + 3\n",
    "y = (x**3) + (x**2) + x + 3 \n",
    "\n",
    "# Print the new numpy array y \n",
    "y\n"
   ]
  },
  {
   "cell_type": "code",
   "execution_count": 504,
   "metadata": {},
   "outputs": [
    {
     "data": {
      "text/plain": [
       "array([-1.28936963e+02, -9.57178295e+01, -9.71859213e+01, -1.04151336e+02,\n",
       "       -7.72835206e+01, -1.01168738e+02, -5.56708963e+01, -4.42534386e+01,\n",
       "       -5.36549570e+01, -5.35544381e+01, -3.65078306e+01, -4.67296683e+01,\n",
       "       -5.24895229e+01, -5.65533688e+01,  8.26773421e+00, -2.07068740e+01,\n",
       "       -7.30859404e+01, -5.34244402e+01,  2.79782828e+00, -2.96427880e+01,\n",
       "       -2.28717791e+01,  1.82103458e+01,  2.15972561e+00,  9.37439344e-01,\n",
       "        7.56662773e-02,  6.37222037e+00, -1.34255928e+01,  1.77398374e+01,\n",
       "        4.78377649e+00, -2.27215452e+01,  1.31862567e+01, -3.03383577e+01,\n",
       "       -2.55739865e+01, -1.34779059e+01,  1.41513935e+01,  1.63668147e+01,\n",
       "       -4.54622308e+01,  1.46449822e+01,  8.08477885e+00, -9.60743681e+00,\n",
       "        2.73584102e+01,  1.99118867e+01,  2.73779352e+01,  1.38689683e+01,\n",
       "       -1.02606191e+01,  9.40956411e+00, -2.41424899e+01, -4.46923457e+01,\n",
       "        5.26826497e+00,  9.61376880e+00,  1.10547887e+00,  3.39428543e+01,\n",
       "        4.22817660e+01, -2.19509303e+01,  2.19785254e+01,  3.85286933e+01,\n",
       "        1.60884375e+01, -9.03839184e-01,  1.15985594e+01, -8.87795431e+00,\n",
       "        1.17141978e+01,  7.36728126e+00,  2.18223375e+01,  2.28970689e+00,\n",
       "        2.61264558e+01, -1.95596486e+01,  1.72603968e+01, -1.84045265e+01,\n",
       "       -6.12409828e+00, -3.49373994e+00,  3.41548096e+01,  3.80151428e+01,\n",
       "        2.82290371e+01,  1.48009241e+00,  3.16490430e+01,  3.20898889e+01,\n",
       "       -2.40671636e+00,  3.27943727e+01,  7.11155113e+01,  4.05587211e+01,\n",
       "        6.58286820e+01,  2.42853271e+00,  4.01796716e+01,  5.12996865e+01,\n",
       "        6.62419864e+01,  5.37109720e+01,  1.39024329e+01,  8.82122976e+01,\n",
       "        8.53836646e+01,  5.82416552e+01,  6.51420277e+01,  9.03099257e+01,\n",
       "        9.75027258e+01,  7.93133922e+01,  1.33827150e+02,  1.16209806e+02,\n",
       "        8.77864891e+01,  1.31738684e+02,  1.43274323e+02,  1.50891141e+02])"
      ]
     },
     "execution_count": 504,
     "metadata": {},
     "output_type": "execute_result"
    }
   ],
   "source": [
    "# Generate noise\n",
    "noise = 20*np.random.normal(size=x.size) # 20 times the random number to accentuate the variation\n",
    "\n",
    "# Add noise to the y\n",
    "noisy_y = y + noise\n",
    "\n",
    "# Print the noisy y numpy array\n",
    "noisy_y"
   ]
  },
  {
   "cell_type": "code",
   "execution_count": 505,
   "metadata": {},
   "outputs": [
    {
     "data": {
      "text/plain": [
       "[<matplotlib.lines.Line2D at 0x1fd10a7e9e8>]"
      ]
     },
     "execution_count": 505,
     "metadata": {},
     "output_type": "execute_result"
    },
    {
     "data": {
      "image/png": "[encoded data removed]",
      "text/plain": [
       "<Figure size 432x288 with 1 Axes>"
      ]
     },
     "metadata": {
      "needs_background": "light"
     },
     "output_type": "display_data"
    }
   ],
   "source": [
    "# Plot the noisy y data & x data (scatter plot)\n",
    "plt.plot(x, noisy_y, 'bo')\n",
    "plt.ylabel('Dependent Variable')\n",
    "plt.ylabel('Independent Variable')\n",
    "plt.title('Non Linear Model')\n",
    "plt.plot(x,y,'r') #Plot the curve that is used to generate the noisy pattern"
   ]
  },
  {
   "cell_type": "markdown",
   "metadata": {},
   "source": [
    "### $$ Y = (X)^2 $$"
   ]
  },
  {
   "cell_type": "code",
   "execution_count": 506,
   "metadata": {},
   "outputs": [
    {
     "data": {
      "text/plain": [
       "[<matplotlib.lines.Line2D at 0x1fd10c38ef0>]"
      ]
     },
     "execution_count": 506,
     "metadata": {},
     "output_type": "execute_result"
    },
    {
     "data": {
      "image/png": "[encoded data removed]",
      "text/plain": [
       "<Figure size 432x288 with 1 Axes>"
      ]
     },
     "metadata": {
      "needs_background": "light"
     },
     "output_type": "display_data"
    }
   ],
   "source": [
    "# Plot a quadratic expression \n",
    "y = np.power(x,2)\n",
    "\n",
    "# Generate noise\n",
    "noise = 2*np.random.normal(size=x.size) # 20 times the random number to accentuate the variation\n",
    "\n",
    "# Add noise to the y\n",
    "noisy_y = y + noise\n",
    "\n",
    "plt.plot(x, noisy_y, 'bo')\n",
    "plt.ylabel('Dependent Variable')\n",
    "plt.ylabel('Independent Variable')\n",
    "plt.title('Non Linear Model')\n",
    "\n",
    "plt.plot(x,y,'r') #Plot the curve that is used to generate the noisy pattern"
   ]
  },
  {
   "cell_type": "code",
   "execution_count": 507,
   "metadata": {},
   "outputs": [
    {
     "data": {
      "text/plain": [
       "[<matplotlib.lines.Line2D at 0x1fd11ed2898>]"
      ]
     },
     "execution_count": 507,
     "metadata": {},
     "output_type": "execute_result"
    },
    {
     "data": {
      "image/png": "[encoded data removed]",
      "text/plain": [
       "<Figure size 432x288 with 1 Axes>"
      ]
     },
     "metadata": {
      "needs_background": "light"
     },
     "output_type": "display_data"
    }
   ],
   "source": [
    "# Plot an exponential curve\n",
    "y = np.exp(x)\n",
    "\n",
    "# Generate noise\n",
    "noise = 10*np.random.normal(size=x.size) # 20 times the random number to accentuate the variation\n",
    "\n",
    "# Add noise to the y\n",
    "noisy_y = y + noise\n",
    "\n",
    "plt.plot(x, noisy_y, 'bo')\n",
    "plt.ylabel('Dependent Variable')\n",
    "plt.ylabel('Independent Variable')\n",
    "plt.title('Non Linear Model (exponential curve)')\n",
    "\n",
    "\n",
    "plt.plot(x,y,'r') #Plot the curve that is used to generate the noisy pattern"
   ]
  },
  {
   "cell_type": "markdown",
   "metadata": {},
   "source": [
    "### $$ Y = log(X) $$"
   ]
  },
  {
   "cell_type": "code",
   "execution_count": 508,
   "metadata": {},
   "outputs": [
    {
     "name": "stderr",
     "output_type": "stream",
     "text": [
      "C:\\Users\\rahdi\\Apps\\Anaconda3\\lib\\site-packages\\ipykernel_launcher.py:4: RuntimeWarning: invalid value encountered in log\n",
      "  after removing the cwd from sys.path.\n"
     ]
    },
    {
     "data": {
      "image/png": "[encoded data removed]",
      "text/plain": [
       "<Figure size 432x288 with 1 Axes>"
      ]
     },
     "metadata": {
      "needs_background": "light"
     },
     "output_type": "display_data"
    }
   ],
   "source": [
    "X = np.arange(-5.0, 5.0, 0.1)\n",
    "\n",
    "# Generate Lograthmic model using numpy.log(X) function \n",
    "Y = np.log(X)\n",
    "\n",
    "plt.plot(X,Y) \n",
    "plt.ylabel('Dependent Variable')\n",
    "plt.xlabel('Indepdendent Variable')\n",
    "plt.title('Lograthmic Curve')\n",
    "plt.show()"
   ]
  },
  {
   "cell_type": "code",
   "execution_count": 509,
   "metadata": {},
   "outputs": [
    {
     "name": "stderr",
     "output_type": "stream",
     "text": [
      "C:\\Users\\rahdi\\Apps\\Anaconda3\\lib\\site-packages\\ipykernel_launcher.py:5: RuntimeWarning: invalid value encountered in log\n",
      "  \"\"\"\n"
     ]
    },
    {
     "data": {
      "image/png": "[encoded data removed]",
      "text/plain": [
       "<Figure size 432x288 with 1 Axes>"
      ]
     },
     "metadata": {
      "needs_background": "light"
     },
     "output_type": "display_data"
    }
   ],
   "source": [
    "# Generate a numpy array\n",
    "X = np.arange(-5.0, 5.0, 0.1)\n",
    "\n",
    "# Create a Polynomial Model (Logarithmic Curve)\n",
    "Y = np.log(X)\n",
    "\n",
    "# Generate noise\n",
    "noise = np.random.normal(size=X.size) # 10 times the random number to accentuate the variation\n",
    "\n",
    "# Add noise to the y\n",
    "noisy_Y = Y + noise\n",
    "\n",
    "plt.plot(X, noisy_Y, 'bo')\n",
    "plt.plot(X,Y) \n",
    "plt.ylabel('Dependent Variable')\n",
    "plt.xlabel('Indepdendent Variable')\n",
    "plt.show()\n"
   ]
  },
  {
   "cell_type": "markdown",
   "metadata": {},
   "source": [
    "#### Sigmoid or Logistic Function Equation : \n",
    "### $$ Y = a + \\frac{b}{1+ c^{(X-d)}}$$"
   ]
  },
  {
   "cell_type": "code",
   "execution_count": 510,
   "metadata": {},
   "outputs": [
    {
     "data": {
      "image/png": "[encoded data removed]",
      "text/plain": [
       "<Figure size 432x288 with 1 Axes>"
      ]
     },
     "metadata": {
      "needs_background": "light"
     },
     "output_type": "display_data"
    }
   ],
   "source": [
    "# Create a sigmoid function\n",
    "Y = 1-5/(1+np.power(3, X-1))\n",
    "\n",
    "plt.plot(X,Y, 'b') \n",
    "plt.ylabel('Dependent Variable')\n",
    "plt.xlabel('Indepdendent Variable')\n",
    "plt.show()"
   ]
  },
  {
   "cell_type": "markdown",
   "metadata": {},
   "source": [
    "### Logistic Function (sigmoid) is also described by the equation using 2 parameters ( $\\beta_1$ & $\\beta_2$ )\n",
    "### $ \\hat{Y} = \\frac1{1+e^{(-\\beta_1(X-\\beta_2)}} $ \n",
    "####   - $ \\beta_1$: Controls the curve's steepness,\n",
    "####   - $ \\beta_2$: Slides the curve on the x-axis.\n",
    " "
   ]
  },
  {
   "cell_type": "markdown",
   "metadata": {},
   "source": [
    "#### Sigmoid or Logistic Function (positive realm) : \n",
    "### $$ Y(X) = \\frac{1}{1+ e^{- \\beta_1(X-\\beta_2)}}$$"
   ]
  },
  {
   "cell_type": "markdown",
   "metadata": {},
   "source": [
    "#### Creating this notebook & data was possible thanks due to a baseline source provided by IBM CognitiveClass"
   ]
  },
  {
   "cell_type": "code",
   "execution_count": null,
   "metadata": {},
   "outputs": [],
   "source": [
    "# Create a sigmoid function\n",
    "Y = 1/(1+np.exp(-X))\n",
    "\n",
    "plt.plot(X,Y,'g') \n",
    "plt.ylabel('Dependent Variable')\n",
    "plt.xlabel('Indepdendent Variable')\n",
    "plt.title('Proper Sigmoid or Logistic Function')\n",
    "plt.show()"
   ]
  }
 ],
 "metadata": {
  "kernelspec": {
   "display_name": "Python 3",
   "language": "python",
   "name": "python3"
  },
  "language_info": {
   "codemirror_mode": {
    "name": "ipython",
    "version": 3
   },
   "file_extension": ".py",
   "mimetype": "text/x-python",
   "name": "python",
   "nbconvert_exporter": "python",
   "pygments_lexer": "ipython3",
   "version": "3.7.3"
  }
 },
 "nbformat": 4,
 "nbformat_minor": 2
}
