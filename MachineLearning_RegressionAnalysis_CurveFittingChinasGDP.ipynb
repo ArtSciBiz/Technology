{
 "cells": [
  {
   "cell_type": "markdown",
   "metadata": {},
   "source": [
    "# Demo of Regression Analysis (predicting continuously varying values)\n",
    "\n",
    "### (Working with China's GDP dataset provided by CognitiveClass - can obtain from Worldbank as well)"
   ]
  },
  {
   "cell_type": "code",
   "execution_count": 16,
   "metadata": {},
   "outputs": [
    {
     "data": {
      "text/html": [
       "<div>\n",
       "<style scoped>\n",
       "    .dataframe tbody tr th:only-of-type {\n",
       "        vertical-align: middle;\n",
       "    }\n",
       "\n",
       "    .dataframe tbody tr th {\n",
       "        vertical-align: top;\n",
       "    }\n",
       "\n",
       "    .dataframe thead th {\n",
       "        text-align: right;\n",
       "    }\n",
       "</style>\n",
       "<table border=\"1\" class=\"dataframe\">\n",
       "  <thead>\n",
       "    <tr style=\"text-align: right;\">\n",
       "      <th></th>\n",
       "      <th>Year</th>\n",
       "      <th>Value</th>\n",
       "    </tr>\n",
       "  </thead>\n",
       "  <tbody>\n",
       "    <tr>\n",
       "      <th>0</th>\n",
       "      <td>1960</td>\n",
       "      <td>5.918412e+10</td>\n",
       "    </tr>\n",
       "    <tr>\n",
       "      <th>1</th>\n",
       "      <td>1961</td>\n",
       "      <td>4.955705e+10</td>\n",
       "    </tr>\n",
       "    <tr>\n",
       "      <th>2</th>\n",
       "      <td>1962</td>\n",
       "      <td>4.668518e+10</td>\n",
       "    </tr>\n",
       "    <tr>\n",
       "      <th>3</th>\n",
       "      <td>1963</td>\n",
       "      <td>5.009730e+10</td>\n",
       "    </tr>\n",
       "    <tr>\n",
       "      <th>4</th>\n",
       "      <td>1964</td>\n",
       "      <td>5.906225e+10</td>\n",
       "    </tr>\n",
       "  </tbody>\n",
       "</table>\n",
       "</div>"
      ],
      "text/plain": [
       "   Year         Value\n",
       "0  1960  5.918412e+10\n",
       "1  1961  4.955705e+10\n",
       "2  1962  4.668518e+10\n",
       "3  1963  5.009730e+10\n",
       "4  1964  5.906225e+10"
      ]
     },
     "execution_count": 16,
     "metadata": {},
     "output_type": "execute_result"
    }
   ],
   "source": [
    "#PyLab combines the numerical module numpy with the graphical plotting module pyplot\n",
    "#  pyLab is a convenience module that bulk imports matplotlib. many examples use it but it's not recommended \n",
    "#  pyplot (for plotting) and NumPy (for Mathematics and working with arrays) in a single name space\n",
    "\n",
    "import matplotlib.pyplot as plt\n",
    "import pandas as pd\n",
    "import pylab as pl                            \n",
    "import numpy as np\n",
    "%matplotlib inline\n",
    "\n",
    "# Get China's GDP data file & plot it\n",
    "df = pd.read_csv('https://s3-api.us-geo.objectstorage.softlayer.net/cf-courses-data/CognitiveClass/ML0101ENv3/labs/china_gdp.csv')\n",
    "df.head()"
   ]
  },
  {
   "cell_type": "code",
   "execution_count": 3,
   "metadata": {},
   "outputs": [
    {
     "data": {
      "text/plain": [
       "[<matplotlib.lines.Line2D at 0x28338a48b38>]"
      ]
     },
     "execution_count": 3,
     "metadata": {},
     "output_type": "execute_result"
    },
    {
     "data": {
      "image/png": "[encoded data removed]",
      "text/plain": [
       "<Figure size 432x288 with 1 Axes>"
      ]
     },
     "metadata": {
      "needs_background": "light"
     },
     "output_type": "display_data"
    }
   ],
   "source": [
    "x, y = (df['Year'].values, df['Value'].values)\n",
    "\n",
    "plt.ylabel('Gross Domestic Product (in 10 Trillions $)')\n",
    "plt.xlabel('Year')\n",
    "plt.title('Chinese GDP')\n",
    "plt.plot(x,y,'ro')"
   ]
  },
  {
   "cell_type": "code",
   "execution_count": 4,
   "metadata": {},
   "outputs": [
    {
     "name": "stdout",
     "output_type": "stream",
     "text": [
      "values in array x : \n",
      " [1960 1961 1962 1963 1964 1965 1966 1967 1968 1969 1970 1971 1972 1973\n",
      " 1974 1975 1976 1977 1978 1979 1980 1981 1982 1983 1984 1985 1986 1987\n",
      " 1988 1989 1990 1991 1992 1993 1994 1995 1996 1997 1998 1999 2000 2001\n",
      " 2002 2003 2004 2005 2006 2007 2008 2009 2010 2011 2012 2013 2014]\n",
      "values in array y : \n",
      " [5.91841165e+10 4.95570502e+10 4.66851785e+10 5.00973033e+10\n",
      " 5.90622549e+10 6.97091531e+10 7.58794348e+10 7.20570286e+10\n",
      " 6.99934979e+10 7.87188205e+10 9.15062113e+10 9.85620238e+10\n",
      " 1.12159814e+11 1.36769878e+11 1.42254742e+11 1.61162492e+11\n",
      " 1.51627687e+11 1.72349014e+11 1.48382112e+11 1.76856525e+11\n",
      " 1.89649992e+11 1.94369049e+11 2.03549627e+11 2.28950201e+11\n",
      " 2.58082147e+11 3.07479586e+11 2.98805793e+11 2.71349773e+11\n",
      " 3.10722214e+11 3.45957486e+11 3.58973230e+11 3.81454704e+11\n",
      " 4.24934066e+11 4.42874596e+11 5.62261130e+11 7.32032045e+11\n",
      " 8.60844098e+11 9.58159425e+11 1.02527690e+12 1.08944711e+12\n",
      " 1.20526068e+12 1.33223472e+12 1.46190649e+12 1.64992872e+12\n",
      " 1.94174560e+12 2.26859890e+12 2.72978403e+12 3.52309431e+12\n",
      " 4.55843107e+12 5.05941974e+12 6.03965851e+12 7.49243210e+12\n",
      " 8.46162316e+12 9.49060260e+12 1.03548317e+13]\n"
     ]
    }
   ],
   "source": [
    "# Print the values in x & y arrays\n",
    "print(\"values in array x : \\n\", x)\n",
    "print(\"values in array y : \\n\", y)"
   ]
  },
  {
   "cell_type": "markdown",
   "metadata": {},
   "source": [
    "### Logistic Function (sigmoid) is also described by the equation using 2 parameters ( $\\beta_1$ & $\\beta_2$ )\n",
    "### $ \\hat{Y} = \\frac1{1+e^{(-\\beta_1(X-\\beta_2)}} $ \n",
    "####   - $ \\beta_1$: Controls the curve's steepness,\n",
    "####   - $ \\beta_2$: Slides the curve on the x-axis.\n",
    " \n",
    " #### Useful when the (x,y) range does not have any negative values (plot a function)"
   ]
  },
  {
   "cell_type": "code",
   "execution_count": 8,
   "metadata": {},
   "outputs": [
    {
     "data": {
      "image/png": "[encoded data removed]",
      "text/plain": [
       "<Figure size 432x288 with 1 Axes>"
      ]
     },
     "metadata": {
      "needs_background": "light"
     },
     "output_type": "display_data"
    }
   ],
   "source": [
    "def sigmoid (x, B1, B2):\n",
    "    y = 1.0 / (1.0 + np.exp(-B1*(x-B2)))\n",
    "    return y\n",
    "\n",
    "B1 = .2\n",
    "B2 = 2010\n",
    "\n",
    "y_pred = sigmoid(x, B1, B2)\n",
    "\n",
    "plt.plot(x,y_pred*(10**12), 'b')    # The original scale of GDP is trillions of tens of dollars 10 to power 12 \n",
    "plt.ylabel('Dependent Variable    - GDP in $ 10Trillions')\n",
    "plt.xlabel('Indepdendent Variable - Timeline in Years')\n",
    "plt.show()"
   ]
  },
  {
   "cell_type": "code",
   "execution_count": 9,
   "metadata": {},
   "outputs": [
    {
     "data": {
      "text/plain": [
       "[<matplotlib.lines.Line2D at 0x28338be8d68>]"
      ]
     },
     "execution_count": 9,
     "metadata": {},
     "output_type": "execute_result"
    },
    {
     "data": {
      "image/png": "[encoded data removed]",
      "text/plain": [
       "<Figure size 432x288 with 1 Axes>"
      ]
     },
     "metadata": {
      "needs_background": "light"
     },
     "output_type": "display_data"
    }
   ],
   "source": [
    "#Overlay the predicted curve & the data curve\n",
    "plt.ylabel('Gross Domestic Product (in 10 Trillions $)')\n",
    "plt.xlabel('Year')\n",
    "plt.title('Chinese GDP')\n",
    "plt.plot(x,y,'ro')\n",
    "plt.plot(x,y_pred*(10**13),'b')"
   ]
  },
  {
   "cell_type": "code",
   "execution_count": 10,
   "metadata": {},
   "outputs": [
    {
     "name": "stdout",
     "output_type": "stream",
     "text": [
      "normalized values in array x : \n",
      " [0.97318769 0.97368421 0.97418073 0.97467726 0.97517378 0.97567031\n",
      " 0.97616683 0.97666336 0.97715988 0.97765641 0.97815293 0.97864945\n",
      " 0.97914598 0.9796425  0.98013903 0.98063555 0.98113208 0.9816286\n",
      " 0.98212512 0.98262165 0.98311817 0.9836147  0.98411122 0.98460775\n",
      " 0.98510427 0.98560079 0.98609732 0.98659384 0.98709037 0.98758689\n",
      " 0.98808342 0.98857994 0.98907646 0.98957299 0.99006951 0.99056604\n",
      " 0.99106256 0.99155909 0.99205561 0.99255214 0.99304866 0.99354518\n",
      " 0.99404171 0.99453823 0.99503476 0.99553128 0.99602781 0.99652433\n",
      " 0.99702085 0.99751738 0.9980139  0.99851043 0.99900695 0.99950348\n",
      " 1.        ]\n",
      "normalized values in array y : \n",
      " [0.0057156  0.00478589 0.00450854 0.00483806 0.00570384 0.00673204\n",
      " 0.00732793 0.00695878 0.0067595  0.00760213 0.00883705 0.00951846\n",
      " 0.01083164 0.01320831 0.01373801 0.01556399 0.01464318 0.01664431\n",
      " 0.01432975 0.01707961 0.01831512 0.01877086 0.01965745 0.02211047\n",
      " 0.02492384 0.02969431 0.02885665 0.02620514 0.03000746 0.03341025\n",
      " 0.03466722 0.03683833 0.04103727 0.04276985 0.0542994  0.07069473\n",
      " 0.08313453 0.09253259 0.09901435 0.10521147 0.11639597 0.12865827\n",
      " 0.1411811  0.15933902 0.18752073 0.21908602 0.26362418 0.34023675\n",
      " 0.44022261 0.48860473 0.58326959 0.7235687  0.81716665 0.91653856\n",
      " 1.        ]\n"
     ]
    }
   ],
   "source": [
    "# Normalize the (x,y) data to make the scales similar & eliminate the units (y = $Trillions, x = Years)\n",
    "x_normalized = x/max(x)\n",
    "y_normalized = y/max(y)\n",
    "\n",
    "# Print normalized values\n",
    "print(\"normalized values in array x : \\n\", x_normalized)\n",
    "print(\"normalized values in array y : \\n\", y_normalized)\n"
   ]
  },
  {
   "cell_type": "markdown",
   "metadata": {},
   "source": [
    "#### Use the Normalized data to fit a curve using curve_fit() method of scipy to calculate optimal parameters\n",
    "\n",
    "####   $\\beta_1,  \\beta_2$ are the first two values in optimum parameters matrix"
   ]
  },
  {
   "cell_type": "code",
   "execution_count": 12,
   "metadata": {},
   "outputs": [
    {
     "name": "stdout",
     "output_type": "stream",
     "text": [
      "Beta_1 = 690.451711, Beta_2 = 0.997207\n",
      "Post curve fitting parameters  (popt) of optimum values matrix :  [690.451711     0.99720713]\n",
      "Post curve fiitting parameters (pcov) of covariance matrix     :  [[ 1.52271498e+03 -2.88118984e-04]\n",
      " [-2.88118984e-04  7.25961449e-09]]\n"
     ]
    }
   ],
   "source": [
    "# Use curve_fit of scipy which is a non-linear least squares method to fit our GDP data. \n",
    "from scipy.optimize import curve_fit\n",
    "\n",
    "#Compute OPTIMUM VALUE PARAMETER 'popt', & COVARIANCE PARAMETER'pcov'\n",
    "popt, pcov = curve_fit(sigmoid, x_normalized, y_normalized)\n",
    "\n",
    "#print the final parameters\n",
    "print(\"Beta_1 = %f, Beta_2 = %f\" % (popt[0], popt[1]))\n",
    "\n",
    "print(\"Post curve fitting parameters  (popt) of optimum values matrix : \", popt)\n",
    "print(\"Post curve fiitting parameters (pcov) of covariance matrix     : \", pcov)\n"
   ]
  },
  {
   "cell_type": "code",
   "execution_count": 13,
   "metadata": {},
   "outputs": [
    {
     "name": "stdout",
     "output_type": "stream",
     "text": [
      "X array :  [0.97318769 0.97368421 0.97418073 0.97467726 0.97517378 0.97567031\n",
      " 0.97616683 0.97666336 0.97715988 0.97765641 0.97815293 0.97864945\n",
      " 0.97914598 0.9796425  0.98013903 0.98063555 0.98113208 0.9816286\n",
      " 0.98212512 0.98262165 0.98311817 0.9836147  0.98411122 0.98460775\n",
      " 0.98510427 0.98560079 0.98609732 0.98659384 0.98709037 0.98758689\n",
      " 0.98808342 0.98857994 0.98907646 0.98957299 0.99006951 0.99056604\n",
      " 0.99106256 0.99155909 0.99205561 0.99255214 0.99304866 0.99354518\n",
      " 0.99404171 0.99453823 0.99503476 0.99553128 0.99602781 0.99652433\n",
      " 0.99702085 0.99751738 0.9980139  0.99851043 0.99900695 0.99950348\n",
      " 1.        ]\n",
      "Y array :  [6.27401504e-08 8.83960819e-08 1.24543329e-07 1.75472039e-07\n",
      " 2.47226694e-07 3.48323511e-07 4.90761177e-07 6.91444911e-07\n",
      " 9.74192840e-07 1.37256282e-06 1.93383520e-06 2.72462407e-06\n",
      " 3.83878312e-06 5.40854399e-06 7.62020890e-06 1.07362594e-05\n",
      " 1.51265038e-05 2.13119577e-05 3.00266605e-05 4.23047539e-05\n",
      " 5.96031388e-05 8.39742276e-05 1.18309216e-04 1.66680593e-04\n",
      " 2.34824231e-04 3.30817656e-04 4.66033788e-04 6.56480938e-04\n",
      " 9.24683314e-04 1.30231579e-03 1.83388694e-03 2.58187055e-03\n",
      " 3.63382204e-03 5.11218149e-03 7.18764789e-03 1.00971698e-02\n",
      " 1.41676439e-02 1.98461508e-02 2.77366138e-02 3.86405056e-02\n",
      " 5.35946734e-02 7.38913915e-02 1.01053894e-01 1.36727201e-01\n",
      " 1.82437909e-01 2.39196287e-01 3.06982434e-01 3.84275769e-01\n",
      " 4.67891080e-01 5.53349500e-01 6.35767255e-01 7.10921872e-01\n",
      " 7.76032182e-01 8.29984539e-01 8.73065987e-01]\n"
     ]
    }
   ],
   "source": [
    "#### Plot the fitted curve  & the original data using the parameters\n",
    "X = x_normalized\n",
    "Y = sigmoid(X, popt[0], popt[1])\n",
    "\n",
    "print (\"X array : \", X)\n",
    "print (\"Y array : \", Y)"
   ]
  },
  {
   "cell_type": "code",
   "execution_count": 14,
   "metadata": {},
   "outputs": [
    {
     "data": {
      "image/png": "[encoded data removed]",
      "text/plain": [
       "<Figure size 432x288 with 1 Axes>"
      ]
     },
     "metadata": {
      "needs_background": "light"
     },
     "output_type": "display_data"
    }
   ],
   "source": [
    "plt.plot(X, Y, 'b', label= 'sigmoid curve fitting')\n",
    "plt.plot(x_normalized, y_normalized, 'ro', label= 'actual data')\n",
    "plt.ylabel(\"Normalized GDP ($ 10 Trillion)\")\n",
    "plt.xlabel(\"Normalized Timeline (Years 1955 - 2015)\")\n",
    "plt.title('GDP of China, 1955-2015 fitted to a sigmoid curve')\n",
    "plt.legend(loc=\"best\") #place the legend in the best place of the plot\n",
    "plt.show()"
   ]
  },
  {
   "cell_type": "markdown",
   "metadata": {},
   "source": [
    "## We can visualize that the estimated sigmoid curve fits the data well, but how well?\n",
    "### To determine accuracy we compute  $R^2$ = ( $ 1 - {\\frac{Residual Errors Squared}{Mean Errors Squared}}$ )\n",
    "#### Mean Residual Errors Squared =  mean $ (Y_i - Y_f)^2 $ , \n",
    "#### Mean Errors Squared     = mean $ (Y_i - Y_m)^2 $\n",
    "#### Take the actual data & split into Training & Testing data set\n",
    "#### (1) Use the Training Data set to fit the sigmoid curve  & compute the fitted values ($Y_f$)\n",
    "#### (2) Use the Testing   Data set to  ($Y_i$) as is\n",
    "#### INPUT THE $ Y_f, Y_i $ INTO  r2_score() OF SCIKIT LEARN     "
   ]
  },
  {
   "cell_type": "code",
   "execution_count": 15,
   "metadata": {},
   "outputs": [
    {
     "name": "stdout",
     "output_type": "stream",
     "text": [
      "popt, (B1, B2)  : [713.27625282   0.99716637]\n",
      "pcov COVARIANCE : [[ 2.00367692e+03 -4.41678759e-04]\n",
      " [-4.41678759e-04  9.43024004e-09]]\n",
      "M.A.E - Mean Absolute Error : 0.02\n",
      "M.S.E - Mean Squared Error   : 0.00\n",
      "R Square : 0.95\n"
     ]
    }
   ],
   "source": [
    "# --- SPLIT THE DATA INTO TRAINING & TESTING DATASETS ---\n",
    "\n",
    "# Create a Boolean Mask\n",
    "msk = np.random.rand(len(df)) < 0.8\n",
    "\n",
    "# Remember to use the normalized data set \n",
    "train_x = x_normalized[msk]\n",
    "train_y = y_normalized[msk]\n",
    "\n",
    "test_x = x_normalized[~msk]\n",
    "test_y = y_normalized[~msk]\n",
    "\n",
    "# Fit the curve using the Training Dataset of normalized values (popt:parameter optimum, pcov:parameters covariance)\n",
    "popt, pcov = curve_fit(sigmoid, train_x, train_y)\n",
    "\n",
    "print(\"popt, (B1, B2)  :\", popt)\n",
    "print(\"pcov COVARIANCE :\", pcov)\n",
    "\n",
    "# Use the estimated sigmoid function to compute the estimated or fitted values of Y\n",
    "#Y = sigmoid(X, B1, B2)\n",
    "Y = sigmoid(test_x, popt[0], popt[1])\n",
    "\n",
    "\n",
    "# Compute Mean of Absolute Errors, or the Sum of Squares (Mean of Squared Errors) - has to be minimal\n",
    "print(\"M.A.E - Mean Absolute Error : %.2f\" %  np.mean(np.absolute(Y - test_y)))\n",
    "\n",
    "# Compute Residual Sum of Squares (Mean of Squared Errors) - has to be minimal\n",
    "print(\"M.S.E - Mean Squared Error   : %.2f\" %  np.mean((Y - test_y)**2))\n",
    "\n",
    "from sklearn.metrics import r2_score\n",
    "\n",
    "# Compute R square using r2_score of SciKit Learn\n",
    "print(\"R Square : %.2f\" %  r2_score(Y, test_y))"
   ]
  },
  {
   "cell_type": "code",
   "execution_count": null,
   "metadata": {},
   "outputs": [],
   "source": []
  }
 ],
 "metadata": {
  "kernelspec": {
   "display_name": "Python 3",
   "language": "python",
   "name": "python3"
  },
  "language_info": {
   "codemirror_mode": {
    "name": "ipython",
    "version": 3
   },
   "file_extension": ".py",
   "mimetype": "text/x-python",
   "name": "python",
   "nbconvert_exporter": "python",
   "pygments_lexer": "ipython3",
   "version": "3.7.3"
  }
 },
 "nbformat": 4,
 "nbformat_minor": 2
}
